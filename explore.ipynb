{
 "cells": [
  {
   "cell_type": "code",
   "execution_count": null,
   "id": "d67f33fb",
   "metadata": {},
   "outputs": [],
   "source": [
    "img = plt.imread('CVGA.png')\n",
    "fig, ax = plt.subplots(figsize = (12,6))\n",
    "sns.scatterplot(data=min_max_day,x=min_max_day['Glucose Value (mg/dL)']['amin'],\n",
    "            y=min_max_day['Glucose Value (mg/dL)']['amax'], zorder=1)\n",
    "plt.xlim(110,40)\n",
    "plt.ylim(110,400)\n",
    "ax.imshow(img);"
   ]
  }
 ],
 "metadata": {
  "kernelspec": {
   "display_name": "Python 3 (ipykernel)",
   "language": "python",
   "name": "python3"
  },
  "language_info": {
   "codemirror_mode": {
    "name": "ipython",
    "version": 3
   },
   "file_extension": ".py",
   "mimetype": "text/x-python",
   "name": "python",
   "nbconvert_exporter": "python",
   "pygments_lexer": "ipython3",
   "version": "3.9.12"
  }
 },
 "nbformat": 4,
 "nbformat_minor": 5
}
