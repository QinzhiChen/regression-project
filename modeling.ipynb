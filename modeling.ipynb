{
 "cells": [
  {
   "cell_type": "code",
   "execution_count": 1,
   "id": "8c90e8cb",
   "metadata": {},
   "outputs": [],
   "source": [
    "import warnings\n",
    "warnings.filterwarnings(\"ignore\")\n",
    "from sklearn.model_selection import train_test_split\n",
    "from sklearn.impute import SimpleImputer\n",
    "from sklearn.preprocessing import MinMaxScaler, StandardScaler, RobustScaler, QuantileTransformer\n",
    "from env import user, password, host\n",
    "import pandas as pd\n",
    "import matplotlib.pyplot as plt\n",
    "import seaborn as sns\n",
    "import numpy as np\n",
    "import env\n",
    "import os\n",
    "import csv\n",
    "import wrangle_zillow\n",
    "import prepare\n",
    "from sklearn.metrics import mean_squared_error\n",
    "from sklearn.metrics import r2_score\n",
    "from sklearn.feature_selection import SelectKBest, f_regression\n",
    "from sklearn.linear_model import LinearRegression, TweedieRegressor, LassoLars\n",
    "from sklearn.metrics import mean_squared_error, explained_variance_score\n",
    "from sklearn.preprocessing import PolynomialFeatures"
   ]
  },
  {
   "cell_type": "code",
   "execution_count": 2,
   "id": "4a1b8374",
   "metadata": {},
   "outputs": [
    {
     "data": {
      "image/png": "[encoded data removed]",
      "text/plain": [
       "<Figure size 1152x216 with 8 Axes>"
      ]
     },
     "metadata": {
      "needs_background": "light"
     },
     "output_type": "display_data"
    }
   ],
   "source": [
    "# load zillow data\n",
    "zillow_train,zillow_validate,zillow_test=wrangle_zillow.wrangle_zillow(1.5)"
   ]
  },
  {
   "cell_type": "code",
   "execution_count": 3,
   "id": "413a1d2a",
   "metadata": {},
   "outputs": [
    {
     "name": "stdout",
     "output_type": "stream",
     "text": [
      "<class 'pandas.core.frame.DataFrame'>\n",
      "Int64Index: 15782 entries, 40527 to 9701\n",
      "Data columns (total 12 columns):\n",
      " #   Column     Non-Null Count  Dtype  \n",
      "---  ------     --------------  -----  \n",
      " 0   lots       15782 non-null  float64\n",
      " 1   logerror   15782 non-null  float64\n",
      " 2   longitude  15782 non-null  float64\n",
      " 3   latitude   15782 non-null  float64\n",
      " 4   bathroom   15782 non-null  float64\n",
      " 5   bedroom    15782 non-null  float64\n",
      " 6   fips       15782 non-null  object \n",
      " 7   sqtft      15782 non-null  float64\n",
      " 8   zipcode    15782 non-null  object \n",
      " 9   taxvalue   15782 non-null  float64\n",
      " 10  county     15782 non-null  object \n",
      " 11  month      15782 non-null  int64  \n",
      "dtypes: float64(8), int64(1), object(3)\n",
      "memory usage: 1.6+ MB\n"
     ]
    }
   ],
   "source": [
    "zillow_train.info()"
   ]
  },
  {
   "cell_type": "code",
   "execution_count": 4,
   "id": "5e48af7c",
   "metadata": {},
   "outputs": [
    {
     "data": {
      "text/html": [
       "<div>\n",
       "<style scoped>\n",
       "    .dataframe tbody tr th:only-of-type {\n",
       "        vertical-align: middle;\n",
       "    }\n",
       "\n",
       "    .dataframe tbody tr th {\n",
       "        vertical-align: top;\n",
       "    }\n",
       "\n",
       "    .dataframe thead th {\n",
       "        text-align: right;\n",
       "    }\n",
       "</style>\n",
       "<table border=\"1\" class=\"dataframe\">\n",
       "  <thead>\n",
       "    <tr style=\"text-align: right;\">\n",
       "      <th></th>\n",
       "      <th>count</th>\n",
       "      <th>mean</th>\n",
       "      <th>std</th>\n",
       "      <th>min</th>\n",
       "      <th>25%</th>\n",
       "      <th>50%</th>\n",
       "      <th>75%</th>\n",
       "      <th>max</th>\n",
       "    </tr>\n",
       "  </thead>\n",
       "  <tbody>\n",
       "    <tr>\n",
       "      <th>lots</th>\n",
       "      <td>15782.0</td>\n",
       "      <td>6.849952e+03</td>\n",
       "      <td>2063.409831</td>\n",
       "      <td>1.276000e+03</td>\n",
       "      <td>5.633250e+03</td>\n",
       "      <td>6.645000e+03</td>\n",
       "      <td>7.840000e+03</td>\n",
       "      <td>1.306800e+04</td>\n",
       "    </tr>\n",
       "    <tr>\n",
       "      <th>logerror</th>\n",
       "      <td>15782.0</td>\n",
       "      <td>6.038086e-03</td>\n",
       "      <td>0.046522</td>\n",
       "      <td>-1.201488e-01</td>\n",
       "      <td>-2.145089e-02</td>\n",
       "      <td>5.935419e-03</td>\n",
       "      <td>3.265249e-02</td>\n",
       "      <td>1.349344e-01</td>\n",
       "    </tr>\n",
       "    <tr>\n",
       "      <th>longitude</th>\n",
       "      <td>15782.0</td>\n",
       "      <td>-1.181455e+08</td>\n",
       "      <td>308724.792487</td>\n",
       "      <td>-1.190442e+08</td>\n",
       "      <td>-1.183721e+08</td>\n",
       "      <td>-1.180902e+08</td>\n",
       "      <td>-1.179152e+08</td>\n",
       "      <td>-1.175597e+08</td>\n",
       "    </tr>\n",
       "    <tr>\n",
       "      <th>latitude</th>\n",
       "      <td>15782.0</td>\n",
       "      <td>3.398485e+07</td>\n",
       "      <td>241352.799773</td>\n",
       "      <td>3.334105e+07</td>\n",
       "      <td>3.381055e+07</td>\n",
       "      <td>3.396623e+07</td>\n",
       "      <td>3.416695e+07</td>\n",
       "      <td>3.466437e+07</td>\n",
       "    </tr>\n",
       "    <tr>\n",
       "      <th>bathroom</th>\n",
       "      <td>15782.0</td>\n",
       "      <td>2.265429e+00</td>\n",
       "      <td>0.432110</td>\n",
       "      <td>1.500000e+00</td>\n",
       "      <td>2.000000e+00</td>\n",
       "      <td>2.000000e+00</td>\n",
       "      <td>2.500000e+00</td>\n",
       "      <td>3.000000e+00</td>\n",
       "    </tr>\n",
       "    <tr>\n",
       "      <th>bedroom</th>\n",
       "      <td>15782.0</td>\n",
       "      <td>3.368458e+00</td>\n",
       "      <td>0.696448</td>\n",
       "      <td>2.000000e+00</td>\n",
       "      <td>3.000000e+00</td>\n",
       "      <td>3.000000e+00</td>\n",
       "      <td>4.000000e+00</td>\n",
       "      <td>5.000000e+00</td>\n",
       "    </tr>\n",
       "    <tr>\n",
       "      <th>sqtft</th>\n",
       "      <td>15782.0</td>\n",
       "      <td>1.732637e+03</td>\n",
       "      <td>463.870688</td>\n",
       "      <td>5.760000e+02</td>\n",
       "      <td>1.375000e+03</td>\n",
       "      <td>1.643000e+03</td>\n",
       "      <td>2.024000e+03</td>\n",
       "      <td>3.136000e+03</td>\n",
       "    </tr>\n",
       "    <tr>\n",
       "      <th>taxvalue</th>\n",
       "      <td>15782.0</td>\n",
       "      <td>3.467046e+05</td>\n",
       "      <td>200729.318489</td>\n",
       "      <td>1.921100e+04</td>\n",
       "      <td>1.943368e+05</td>\n",
       "      <td>3.210165e+05</td>\n",
       "      <td>4.700000e+05</td>\n",
       "      <td>9.443240e+05</td>\n",
       "    </tr>\n",
       "    <tr>\n",
       "      <th>month</th>\n",
       "      <td>15782.0</td>\n",
       "      <td>5.091370e+00</td>\n",
       "      <td>2.294356</td>\n",
       "      <td>1.000000e+00</td>\n",
       "      <td>3.000000e+00</td>\n",
       "      <td>5.000000e+00</td>\n",
       "      <td>7.000000e+00</td>\n",
       "      <td>9.000000e+00</td>\n",
       "    </tr>\n",
       "  </tbody>\n",
       "</table>\n",
       "</div>"
      ],
      "text/plain": [
       "             count          mean            std           min           25%  \\\n",
       "lots       15782.0  6.849952e+03    2063.409831  1.276000e+03  5.633250e+03   \n",
       "logerror   15782.0  6.038086e-03       0.046522 -1.201488e-01 -2.145089e-02   \n",
       "longitude  15782.0 -1.181455e+08  308724.792487 -1.190442e+08 -1.183721e+08   \n",
       "latitude   15782.0  3.398485e+07  241352.799773  3.334105e+07  3.381055e+07   \n",
       "bathroom   15782.0  2.265429e+00       0.432110  1.500000e+00  2.000000e+00   \n",
       "bedroom    15782.0  3.368458e+00       0.696448  2.000000e+00  3.000000e+00   \n",
       "sqtft      15782.0  1.732637e+03     463.870688  5.760000e+02  1.375000e+03   \n",
       "taxvalue   15782.0  3.467046e+05  200729.318489  1.921100e+04  1.943368e+05   \n",
       "month      15782.0  5.091370e+00       2.294356  1.000000e+00  3.000000e+00   \n",
       "\n",
       "                    50%           75%           max  \n",
       "lots       6.645000e+03  7.840000e+03  1.306800e+04  \n",
       "logerror   5.935419e-03  3.265249e-02  1.349344e-01  \n",
       "longitude -1.180902e+08 -1.179152e+08 -1.175597e+08  \n",
       "latitude   3.396623e+07  3.416695e+07  3.466437e+07  \n",
       "bathroom   2.000000e+00  2.500000e+00  3.000000e+00  \n",
       "bedroom    3.000000e+00  4.000000e+00  5.000000e+00  \n",
       "sqtft      1.643000e+03  2.024000e+03  3.136000e+03  \n",
       "taxvalue   3.210165e+05  4.700000e+05  9.443240e+05  \n",
       "month      5.000000e+00  7.000000e+00  9.000000e+00  "
      ]
     },
     "execution_count": 4,
     "metadata": {},
     "output_type": "execute_result"
    }
   ],
   "source": [
    "zillow_train.describe().T"
   ]
  },
  {
   "cell_type": "code",
   "execution_count": 5,
   "id": "9ce93b5b",
   "metadata": {},
   "outputs": [],
   "source": [
    "# the target will be taxamount"
   ]
  },
  {
   "cell_type": "code",
   "execution_count": 6,
   "id": "fbccb6da",
   "metadata": {},
   "outputs": [],
   "source": [
    "x_train, y_train = zillow_train.select_dtypes('float').drop(columns='taxvalue'),zillow_train.taxvalue\n",
    "x_validate, y_validate = zillow_validate.select_dtypes('float').drop(columns='taxvalue'),zillow_validate.taxvalue\n",
    "x_test, y_test = zillow_test.select_dtypes('float').drop(columns='taxvalue'),zillow_test.taxvalue"
   ]
  },
  {
   "cell_type": "code",
   "execution_count": null,
   "id": "4006349f",
   "metadata": {},
   "outputs": [],
   "source": []
  },
  {
   "cell_type": "code",
   "execution_count": 7,
   "id": "4fe0fffd",
   "metadata": {},
   "outputs": [],
   "source": [
    "scaler=MinMaxScaler()\n",
    "x_train_scaled = pd.DataFrame(scaler.fit_transform(x_train), index=x_train.index, columns=x_train.columns)\n",
    "x_validate_scaled = pd.DataFrame(scaler.fit_transform(x_validate), index=x_validate.index, columns=x_validate.columns)\n",
    "x_test_scaled = pd.DataFrame(scaler.fit_transform(x_test), index=x_test.index, columns=x_test.columns)"
   ]
  },
  {
   "cell_type": "code",
   "execution_count": 33,
   "id": "d0e9c23b",
   "metadata": {},
   "outputs": [
    {
     "name": "stdout",
     "output_type": "stream",
     "text": [
      "RMSE using Mean\n",
      "Train/In-Sample:  200722.96 \n",
      "Validate/Out-of-Sample:  206045.64\n",
      "RMSE using Median\n",
      "Train/In-Sample:  202360.04 \n",
      "Validate/Out-of-Sample:  207827.24\n"
     ]
    }
   ],
   "source": [
    "# We need y_train and y_validate to be dataframes to append the new columns with predicted values. \n",
    "y_train = pd.DataFrame(y_train)\n",
    "y_validate = pd.DataFrame(y_validate)\n",
    "\n",
    "# predict mean\n",
    "y_train['baseline'] = y_train['taxvalue'].mean()\n",
    "y_validate['baseline'] = y_validate['taxvalue'].mean()\n",
    "\n",
    "# predict median\n",
    "y_train['taxvalue_med'] = y_train['taxvalue'].median()\n",
    "y_validate['taxvalue_med'] = y_validate['taxvalue'].median()\n",
    "\n",
    "# RMSE of mean\n",
    "rmse_train = mean_squared_error(y_train.taxvalue, y_train.baseline)**(1/2)\n",
    "rmse_validate = mean_squared_error(y_validate.taxvalue, y_validate.baseline)**(1/2)\n",
    "\n",
    "print(\"RMSE using Mean\\nTrain/In-Sample: \", round(rmse_train, 2), \n",
    "      \"\\nValidate/Out-of-Sample: \", round(rmse_validate, 2))\n",
    "\n",
    "# RMSE of median\n",
    "rmse_train = mean_squared_error(y_train.taxvalue, y_train.taxvalue_med)**(1/2)\n",
    "rmse_validate = mean_squared_error(y_validate.taxvalue, y_validate.taxvalue_med)**(1/2)\n",
    "\n",
    "print(\"RMSE using Median\\nTrain/In-Sample: \", round(rmse_train, 2), \n",
    "      \"\\nValidate/Out-of-Sample: \", round(rmse_validate, 2))\n",
    "\n"
   ]
  },
  {
   "cell_type": "code",
   "execution_count": 9,
   "id": "561513e7",
   "metadata": {},
   "outputs": [
    {
     "data": {
      "text/html": [
       "<div>\n",
       "<style scoped>\n",
       "    .dataframe tbody tr th:only-of-type {\n",
       "        vertical-align: middle;\n",
       "    }\n",
       "\n",
       "    .dataframe tbody tr th {\n",
       "        vertical-align: top;\n",
       "    }\n",
       "\n",
       "    .dataframe thead th {\n",
       "        text-align: right;\n",
       "    }\n",
       "</style>\n",
       "<table border=\"1\" class=\"dataframe\">\n",
       "  <thead>\n",
       "    <tr style=\"text-align: right;\">\n",
       "      <th></th>\n",
       "      <th>model</th>\n",
       "      <th>rmse</th>\n",
       "      <th>r^2</th>\n",
       "    </tr>\n",
       "  </thead>\n",
       "  <tbody>\n",
       "    <tr>\n",
       "      <th>0</th>\n",
       "      <td>baseline</td>\n",
       "      <td>200722.958949</td>\n",
       "      <td>0.0</td>\n",
       "    </tr>\n",
       "  </tbody>\n",
       "</table>\n",
       "</div>"
      ],
      "text/plain": [
       "      model           rmse  r^2\n",
       "0  baseline  200722.958949  0.0"
      ]
     },
     "execution_count": 9,
     "metadata": {},
     "output_type": "execute_result"
    }
   ],
   "source": [
    "models = pd.DataFrame(\n",
    "[\n",
    "    {\n",
    "        'model': 'baseline',\n",
    "        'rmse': mean_squared_error(y_train['taxvalue'], y_train.baseline,squared=False),\n",
    "        'r^2': explained_variance_score(y_train['taxvalue'], y_train.baseline)\n",
    "    \n",
    "    }\n",
    "])\n",
    "models"
   ]
  },
  {
   "cell_type": "code",
   "execution_count": 10,
   "id": "31862f32",
   "metadata": {},
   "outputs": [],
   "source": [
    "def modeling(model, \n",
    "                  x_train, \n",
    "                  y_train, \n",
    "                  x_validate, \n",
    "                  y_validate, \n",
    "                  scores=models):\n",
    "    model.fit(x_train, y_train.taxvalue)\n",
    "    in_sample_pred = model.predict(x_train)\n",
    "    out_sample_pred = model.predict(x_validate)\n",
    "    model_name = input('model name?')\n",
    "    y_train[model_name] = in_sample_pred\n",
    "    y_validate[model_name] = out_sample_pred\n",
    "    print(y_validate.shape)\n",
    "    print(out_sample_pred.shape)\n",
    "    rmse_val = mean_squared_error(\n",
    "    y_validate.taxvalue, out_sample_pred, squared=False)\n",
    "    r_squared_val = explained_variance_score(\n",
    "        y_validate.taxvalue, out_sample_pred)\n",
    "    return models.append({\n",
    "        'model': model_name,\n",
    "        'rmse': rmse_val,\n",
    "        'r^2': r_squared_val\n",
    "    \n",
    "    }, ignore_index=True)"
   ]
  },
  {
   "cell_type": "code",
   "execution_count": 11,
   "id": "f11cdf3a",
   "metadata": {},
   "outputs": [
    {
     "name": "stdout",
     "output_type": "stream",
     "text": [
      "model name?OLS\n",
      "(6764, 4)\n",
      "(6764,)\n"
     ]
    }
   ],
   "source": [
    "models = modeling(LinearRegression(normalize=True), \n",
    "                  x_train_scaled, \n",
    "                  y_train, \n",
    "                  x_validate_scaled, \n",
    "                  y_validate, \n",
    "                  scores=models)"
   ]
  },
  {
   "cell_type": "code",
   "execution_count": 12,
   "id": "b2d18759",
   "metadata": {},
   "outputs": [
    {
     "name": "stdout",
     "output_type": "stream",
     "text": [
      "model name?LARS\n",
      "(6764, 5)\n",
      "(6764,)\n"
     ]
    }
   ],
   "source": [
    "models = modeling(LassoLars(alpha=1.0), \n",
    "                  x_train_scaled, \n",
    "                  y_train, \n",
    "                  x_validate_scaled, \n",
    "                  y_validate, \n",
    "                  scores=models)"
   ]
  },
  {
   "cell_type": "code",
   "execution_count": 13,
   "id": "b688ea12",
   "metadata": {},
   "outputs": [
    {
     "name": "stdout",
     "output_type": "stream",
     "text": [
      "model name?POLY\n",
      "(6764, 6)\n",
      "(6764,)\n"
     ]
    }
   ],
   "source": [
    "polyfeats = PolynomialFeatures(degree=2)\n",
    "x_train_quad = polyfeats.fit_transform(x_train_scaled)\n",
    "x_val_quad = polyfeats.transform(x_validate_scaled)\n",
    "models = modeling(LinearRegression(), \n",
    "                  x_train_quad, \n",
    "                  y_train, \n",
    "                  x_val_quad, \n",
    "                  y_validate, \n",
    "                  scores=models)"
   ]
  },
  {
   "cell_type": "code",
   "execution_count": 14,
   "id": "27965a8c",
   "metadata": {},
   "outputs": [
    {
     "name": "stdout",
     "output_type": "stream",
     "text": [
      "model name?TWE\n",
      "(6764, 7)\n",
      "(6764,)\n"
     ]
    }
   ],
   "source": [
    "models = modeling(TweedieRegressor(power=1, alpha=0), \n",
    "                  x_train_scaled, \n",
    "                  y_train, \n",
    "                  x_validate_scaled, \n",
    "                  y_validate, \n",
    "                  scores=models)"
   ]
  },
  {
   "cell_type": "code",
   "execution_count": 15,
   "id": "003db9b6",
   "metadata": {},
   "outputs": [
    {
     "data": {
      "text/html": [
       "<div>\n",
       "<style scoped>\n",
       "    .dataframe tbody tr th:only-of-type {\n",
       "        vertical-align: middle;\n",
       "    }\n",
       "\n",
       "    .dataframe tbody tr th {\n",
       "        vertical-align: top;\n",
       "    }\n",
       "\n",
       "    .dataframe thead th {\n",
       "        text-align: right;\n",
       "    }\n",
       "</style>\n",
       "<table border=\"1\" class=\"dataframe\">\n",
       "  <thead>\n",
       "    <tr style=\"text-align: right;\">\n",
       "      <th></th>\n",
       "      <th>model</th>\n",
       "      <th>rmse</th>\n",
       "      <th>r^2</th>\n",
       "    </tr>\n",
       "  </thead>\n",
       "  <tbody>\n",
       "    <tr>\n",
       "      <th>0</th>\n",
       "      <td>baseline</td>\n",
       "      <td>200722.958949</td>\n",
       "      <td>0.000000</td>\n",
       "    </tr>\n",
       "    <tr>\n",
       "      <th>1</th>\n",
       "      <td>OLS</td>\n",
       "      <td>188468.243128</td>\n",
       "      <td>0.166794</td>\n",
       "    </tr>\n",
       "    <tr>\n",
       "      <th>2</th>\n",
       "      <td>LARS</td>\n",
       "      <td>188462.056447</td>\n",
       "      <td>0.166845</td>\n",
       "    </tr>\n",
       "    <tr>\n",
       "      <th>3</th>\n",
       "      <td>POLY</td>\n",
       "      <td>186964.066075</td>\n",
       "      <td>0.179920</td>\n",
       "    </tr>\n",
       "    <tr>\n",
       "      <th>4</th>\n",
       "      <td>TWE</td>\n",
       "      <td>188435.276773</td>\n",
       "      <td>0.166448</td>\n",
       "    </tr>\n",
       "  </tbody>\n",
       "</table>\n",
       "</div>"
      ],
      "text/plain": [
       "      model           rmse       r^2\n",
       "0  baseline  200722.958949  0.000000\n",
       "1       OLS  188468.243128  0.166794\n",
       "2      LARS  188462.056447  0.166845\n",
       "3      POLY  186964.066075  0.179920\n",
       "4       TWE  188435.276773  0.166448"
      ]
     },
     "execution_count": 15,
     "metadata": {},
     "output_type": "execute_result"
    }
   ],
   "source": [
    "models"
   ]
  },
  {
   "cell_type": "code",
   "execution_count": 16,
   "id": "d6a698e9",
   "metadata": {},
   "outputs": [],
   "source": [
    "kbest = SelectKBest(f_regression, k=3)\n",
    "kbest.fit(x_train_scaled, y_train.taxvalue)\n",
    "mask = x_train_scaled.columns[kbest.get_support()].to_list()"
   ]
  },
  {
   "cell_type": "code",
   "execution_count": 17,
   "id": "79911c77",
   "metadata": {},
   "outputs": [
    {
     "name": "stdout",
     "output_type": "stream",
     "text": [
      "model name?KBEST\n",
      "(6764, 8)\n",
      "(6764,)\n"
     ]
    }
   ],
   "source": [
    "models = modeling(LinearRegression(), \n",
    "                  x_train_scaled[mask], \n",
    "                  y_train, \n",
    "                  x_validate_scaled[mask], \n",
    "                  y_validate, \n",
    "                  scores=models)"
   ]
  },
  {
   "cell_type": "code",
   "execution_count": 18,
   "id": "c151d03b",
   "metadata": {},
   "outputs": [
    {
     "data": {
      "text/html": [
       "<div>\n",
       "<style scoped>\n",
       "    .dataframe tbody tr th:only-of-type {\n",
       "        vertical-align: middle;\n",
       "    }\n",
       "\n",
       "    .dataframe tbody tr th {\n",
       "        vertical-align: top;\n",
       "    }\n",
       "\n",
       "    .dataframe thead th {\n",
       "        text-align: right;\n",
       "    }\n",
       "</style>\n",
       "<table border=\"1\" class=\"dataframe\">\n",
       "  <thead>\n",
       "    <tr style=\"text-align: right;\">\n",
       "      <th></th>\n",
       "      <th>model</th>\n",
       "      <th>rmse</th>\n",
       "      <th>r^2</th>\n",
       "    </tr>\n",
       "  </thead>\n",
       "  <tbody>\n",
       "    <tr>\n",
       "      <th>0</th>\n",
       "      <td>baseline</td>\n",
       "      <td>200722.958949</td>\n",
       "      <td>0.000000</td>\n",
       "    </tr>\n",
       "    <tr>\n",
       "      <th>1</th>\n",
       "      <td>OLS</td>\n",
       "      <td>188468.243128</td>\n",
       "      <td>0.166794</td>\n",
       "    </tr>\n",
       "    <tr>\n",
       "      <th>2</th>\n",
       "      <td>LARS</td>\n",
       "      <td>188462.056447</td>\n",
       "      <td>0.166845</td>\n",
       "    </tr>\n",
       "    <tr>\n",
       "      <th>3</th>\n",
       "      <td>POLY</td>\n",
       "      <td>186964.066075</td>\n",
       "      <td>0.179920</td>\n",
       "    </tr>\n",
       "    <tr>\n",
       "      <th>4</th>\n",
       "      <td>TWE</td>\n",
       "      <td>188435.276773</td>\n",
       "      <td>0.166448</td>\n",
       "    </tr>\n",
       "    <tr>\n",
       "      <th>5</th>\n",
       "      <td>KBEST</td>\n",
       "      <td>190032.454992</td>\n",
       "      <td>0.152617</td>\n",
       "    </tr>\n",
       "  </tbody>\n",
       "</table>\n",
       "</div>"
      ],
      "text/plain": [
       "      model           rmse       r^2\n",
       "0  baseline  200722.958949  0.000000\n",
       "1       OLS  188468.243128  0.166794\n",
       "2      LARS  188462.056447  0.166845\n",
       "3      POLY  186964.066075  0.179920\n",
       "4       TWE  188435.276773  0.166448\n",
       "5     KBEST  190032.454992  0.152617"
      ]
     },
     "execution_count": 18,
     "metadata": {},
     "output_type": "execute_result"
    }
   ],
   "source": [
    "models"
   ]
  },
  {
   "cell_type": "code",
   "execution_count": 19,
   "id": "92471843",
   "metadata": {},
   "outputs": [
    {
     "data": {
      "text/plain": [
       "186964.0660746353"
      ]
     },
     "execution_count": 19,
     "metadata": {},
     "output_type": "execute_result"
    }
   ],
   "source": [
    "models.rmse.min()"
   ]
  },
  {
   "cell_type": "code",
   "execution_count": 20,
   "id": "5a915e1e",
   "metadata": {},
   "outputs": [
    {
     "data": {
      "text/plain": [
       "0.17992015505560377"
      ]
     },
     "execution_count": 20,
     "metadata": {},
     "output_type": "execute_result"
    }
   ],
   "source": [
    "models['r^2'].max()"
   ]
  },
  {
   "cell_type": "code",
   "execution_count": 21,
   "id": "d96eca68",
   "metadata": {},
   "outputs": [],
   "source": [
    "polyfeats = PolynomialFeatures(degree=2)\n",
    "x_test_quad = polyfeats.fit_transform(x_test_scaled)"
   ]
  },
  {
   "cell_type": "code",
   "execution_count": 22,
   "id": "0d87662e",
   "metadata": {},
   "outputs": [],
   "source": [
    "def modeling(model, \n",
    "                  x_test, \n",
    "                  y_test, \n",
    "                  scores=models):\n",
    "    model.fit(x_test, y_test)\n",
    "    in_sample_pred = model.predict(x_test)\n",
    "    model_name = input('model_name?')\n",
    "    y_test[model_name] = in_sample_pred\n",
    "    rmse_val = mean_squared_error(\n",
    "    y_test, in_sample_pred, squared=False)**(1/2)\n",
    "    r_squared_val = explained_variance_score(\n",
    "        y_test, in_sample_pred)\n",
    "    return models.append({\n",
    "        'model': model_name,\n",
    "        'rmse': rmse_val,\n",
    "        'r^2': r_squared_val\n",
    "    \n",
    "    }, ignore_index=True)"
   ]
  },
  {
   "cell_type": "code",
   "execution_count": 23,
   "id": "e01da2d5",
   "metadata": {},
   "outputs": [
    {
     "data": {
      "text/html": [
       "<div>\n",
       "<style scoped>\n",
       "    .dataframe tbody tr th:only-of-type {\n",
       "        vertical-align: middle;\n",
       "    }\n",
       "\n",
       "    .dataframe tbody tr th {\n",
       "        vertical-align: top;\n",
       "    }\n",
       "\n",
       "    .dataframe thead th {\n",
       "        text-align: right;\n",
       "    }\n",
       "</style>\n",
       "<table border=\"1\" class=\"dataframe\">\n",
       "  <thead>\n",
       "    <tr style=\"text-align: right;\">\n",
       "      <th></th>\n",
       "      <th>lots</th>\n",
       "      <th>logerror</th>\n",
       "      <th>longitude</th>\n",
       "      <th>latitude</th>\n",
       "      <th>bathroom</th>\n",
       "      <th>bedroom</th>\n",
       "      <th>sqtft</th>\n",
       "    </tr>\n",
       "  </thead>\n",
       "  <tbody>\n",
       "    <tr>\n",
       "      <th>5778</th>\n",
       "      <td>0.390350</td>\n",
       "      <td>0.504666</td>\n",
       "      <td>0.673027</td>\n",
       "      <td>0.568190</td>\n",
       "      <td>0.333333</td>\n",
       "      <td>0.333333</td>\n",
       "      <td>0.286889</td>\n",
       "    </tr>\n",
       "    <tr>\n",
       "      <th>40570</th>\n",
       "      <td>0.448898</td>\n",
       "      <td>0.937954</td>\n",
       "      <td>0.080833</td>\n",
       "      <td>0.652870</td>\n",
       "      <td>0.333333</td>\n",
       "      <td>0.333333</td>\n",
       "      <td>0.581176</td>\n",
       "    </tr>\n",
       "    <tr>\n",
       "      <th>36995</th>\n",
       "      <td>0.565399</td>\n",
       "      <td>0.628260</td>\n",
       "      <td>0.628760</td>\n",
       "      <td>0.356114</td>\n",
       "      <td>0.333333</td>\n",
       "      <td>1.000000</td>\n",
       "      <td>0.570489</td>\n",
       "    </tr>\n",
       "    <tr>\n",
       "      <th>21548</th>\n",
       "      <td>0.312739</td>\n",
       "      <td>0.382590</td>\n",
       "      <td>0.908904</td>\n",
       "      <td>0.230114</td>\n",
       "      <td>0.333333</td>\n",
       "      <td>0.333333</td>\n",
       "      <td>0.405261</td>\n",
       "    </tr>\n",
       "    <tr>\n",
       "      <th>39419</th>\n",
       "      <td>0.400051</td>\n",
       "      <td>0.535269</td>\n",
       "      <td>0.664202</td>\n",
       "      <td>0.568671</td>\n",
       "      <td>0.333333</td>\n",
       "      <td>0.333333</td>\n",
       "      <td>0.345253</td>\n",
       "    </tr>\n",
       "    <tr>\n",
       "      <th>...</th>\n",
       "      <td>...</td>\n",
       "      <td>...</td>\n",
       "      <td>...</td>\n",
       "      <td>...</td>\n",
       "      <td>...</td>\n",
       "      <td>...</td>\n",
       "      <td>...</td>\n",
       "    </tr>\n",
       "    <tr>\n",
       "      <th>21580</th>\n",
       "      <td>0.374862</td>\n",
       "      <td>0.216391</td>\n",
       "      <td>0.953373</td>\n",
       "      <td>0.256370</td>\n",
       "      <td>1.000000</td>\n",
       "      <td>0.333333</td>\n",
       "      <td>0.448007</td>\n",
       "    </tr>\n",
       "    <tr>\n",
       "      <th>13748</th>\n",
       "      <td>0.671177</td>\n",
       "      <td>0.256060</td>\n",
       "      <td>0.603787</td>\n",
       "      <td>0.453050</td>\n",
       "      <td>0.333333</td>\n",
       "      <td>0.333333</td>\n",
       "      <td>0.309905</td>\n",
       "    </tr>\n",
       "    <tr>\n",
       "      <th>32262</th>\n",
       "      <td>0.571015</td>\n",
       "      <td>0.344082</td>\n",
       "      <td>0.733546</td>\n",
       "      <td>0.423409</td>\n",
       "      <td>1.000000</td>\n",
       "      <td>0.666667</td>\n",
       "      <td>0.834361</td>\n",
       "    </tr>\n",
       "    <tr>\n",
       "      <th>430</th>\n",
       "      <td>0.454089</td>\n",
       "      <td>0.351071</td>\n",
       "      <td>0.345867</td>\n",
       "      <td>0.648063</td>\n",
       "      <td>0.333333</td>\n",
       "      <td>0.666667</td>\n",
       "      <td>0.293465</td>\n",
       "    </tr>\n",
       "    <tr>\n",
       "      <th>46903</th>\n",
       "      <td>0.320058</td>\n",
       "      <td>0.415934</td>\n",
       "      <td>0.620994</td>\n",
       "      <td>0.357675</td>\n",
       "      <td>0.333333</td>\n",
       "      <td>0.666667</td>\n",
       "      <td>0.337855</td>\n",
       "    </tr>\n",
       "  </tbody>\n",
       "</table>\n",
       "<p>5637 rows × 7 columns</p>\n",
       "</div>"
      ],
      "text/plain": [
       "           lots  logerror  longitude  latitude  bathroom   bedroom     sqtft\n",
       "5778   0.390350  0.504666   0.673027  0.568190  0.333333  0.333333  0.286889\n",
       "40570  0.448898  0.937954   0.080833  0.652870  0.333333  0.333333  0.581176\n",
       "36995  0.565399  0.628260   0.628760  0.356114  0.333333  1.000000  0.570489\n",
       "21548  0.312739  0.382590   0.908904  0.230114  0.333333  0.333333  0.405261\n",
       "39419  0.400051  0.535269   0.664202  0.568671  0.333333  0.333333  0.345253\n",
       "...         ...       ...        ...       ...       ...       ...       ...\n",
       "21580  0.374862  0.216391   0.953373  0.256370  1.000000  0.333333  0.448007\n",
       "13748  0.671177  0.256060   0.603787  0.453050  0.333333  0.333333  0.309905\n",
       "32262  0.571015  0.344082   0.733546  0.423409  1.000000  0.666667  0.834361\n",
       "430    0.454089  0.351071   0.345867  0.648063  0.333333  0.666667  0.293465\n",
       "46903  0.320058  0.415934   0.620994  0.357675  0.333333  0.666667  0.337855\n",
       "\n",
       "[5637 rows x 7 columns]"
      ]
     },
     "execution_count": 23,
     "metadata": {},
     "output_type": "execute_result"
    }
   ],
   "source": [
    "x_test_scaled=x_test_scaled.dropna()\n",
    "x_test_scaled"
   ]
  },
  {
   "cell_type": "code",
   "execution_count": 24,
   "id": "cb87921a",
   "metadata": {},
   "outputs": [
    {
     "data": {
      "text/plain": [
       "5778     568539.0\n",
       "40570    547080.0\n",
       "36995    621319.0\n",
       "21548    214299.0\n",
       "39419    575646.0\n",
       "           ...   \n",
       "21580    456247.0\n",
       "13748    506000.0\n",
       "32262    644944.0\n",
       "430      370202.0\n",
       "46903    436766.0\n",
       "Name: taxvalue, Length: 5637, dtype: float64"
      ]
     },
     "execution_count": 24,
     "metadata": {},
     "output_type": "execute_result"
    }
   ],
   "source": [
    "y_test"
   ]
  },
  {
   "cell_type": "code",
   "execution_count": 29,
   "id": "9a153c31",
   "metadata": {},
   "outputs": [],
   "source": [
    "polyfeats = PolynomialFeatures(degree=2)\n",
    "modeltest=LinearRegression()\n",
    "modeltest.fit(x_test, y_test)\n",
    "x_test = polyfeats.fit_transform(x_test_scaled)"
   ]
  },
  {
   "cell_type": "code",
   "execution_count": 30,
   "id": "488fd597",
   "metadata": {},
   "outputs": [],
   "source": [
    "rmse_val = mean_squared_error(\n",
    "    y_test, modeltest.predict(x_test), squared=False)\n",
    "r_squared_val = explained_variance_score(\n",
    "        y_test, modeltest.predict(x_test))"
   ]
  },
  {
   "cell_type": "code",
   "execution_count": 31,
   "id": "24899fd2",
   "metadata": {},
   "outputs": [
    {
     "data": {
      "text/plain": [
       "(184293.28939615286, 0.19025490881871654)"
      ]
     },
     "execution_count": 31,
     "metadata": {},
     "output_type": "execute_result"
    }
   ],
   "source": [
    "rmse_val,r_squared_val"
   ]
  },
  {
   "cell_type": "code",
   "execution_count": null,
   "id": "b319a87a",
   "metadata": {},
   "outputs": [],
   "source": []
  }
 ],
 "metadata": {
  "kernelspec": {
   "display_name": "Python 3 (ipykernel)",
   "language": "python",
   "name": "python3"
  },
  "language_info": {
   "codemirror_mode": {
    "name": "ipython",
    "version": 3
   },
   "file_extension": ".py",
   "mimetype": "text/x-python",
   "name": "python",
   "nbconvert_exporter": "python",
   "pygments_lexer": "ipython3",
   "version": "3.9.12"
  }
 },
 "nbformat": 4,
 "nbformat_minor": 5
}
