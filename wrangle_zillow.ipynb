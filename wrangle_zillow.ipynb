{
 "cells": [
  {
   "cell_type": "code",
   "execution_count": 2,
   "id": "1aa242e9",
   "metadata": {},
   "outputs": [],
   "source": [
    "import warnings\n",
    "warnings.filterwarnings(\"ignore\")\n",
    "from sklearn.model_selection import train_test_split\n",
    "from sklearn.impute import SimpleImputer\n",
    "from sklearn.preprocessing import MinMaxScaler, StandardScaler, RobustScaler, QuantileTransformer\n",
    "from env import user, password, host\n",
    "import env\n",
    "from sklearn.feature_selection import SelectKBest, f_regression, RFE\n",
    "from sklearn.linear_model import LinearRegression\n",
    "import pandas as pd\n",
    "import matplotlib.pyplot as plt\n",
    "import seaborn as sns\n",
    "import numpy as np\n",
    "import os\n",
    "import csv\n",
    "from sklearn.metrics import mean_squared_error\n",
    "from sklearn.metrics import r2_score"
   ]
  },
  {
   "cell_type": "code",
   "execution_count": 4,
   "id": "46ac39a6",
   "metadata": {},
   "outputs": [],
   "source": [
    "def get_connection(db, user=env.user, host=env.host, password=env.password):\n",
    "    return f'mysql+pymysql://{user}:{password}@{host}/{db}'"
   ]
  },
  {
   "cell_type": "code",
   "execution_count": 5,
   "id": "e1295e5b",
   "metadata": {},
   "outputs": [],
   "source": [
    "def acquire_zillow():\n",
    "    file='zillow_df.csv'\n",
    "    if os.path.isfile(file):\n",
    "        return pd.read_csv(file)\n",
    "    else:\n",
    "        zillow2017_df = pd.read_sql(('SELECT longitude,latitude,transactiondate,bathroomcnt,bedroomcnt,fips,calculatedfinishedsquarefeet,regionidzip,taxvaluedollarcnt FROM properties_2017 JOIN propertylandusetype USING (propertylandusetypeid) JOIN predictions_2017 USING (id) WHERE propertylandusedesc = \"Single Family Residential\" and predictions_2017.transactiondate like \"2017%%\"'), get_connection('zillow'))\n",
    "        zillow2017_df.to_csv(file,index=False)\n",
    "    return zillow2017_df"
   ]
  },
  {
   "cell_type": "code",
   "execution_count": 8,
   "id": "8543c608",
   "metadata": {},
   "outputs": [],
   "source": [
    "def clean_column():\n",
    "    zillow2017_df=acquire_zillow()\n",
    "    zillow2017_df.rename(columns={'bedroomcnt':'bedroom','bathroomcnt':'bathroom','calculatedfinishedsquarefeet':'sqtft','taxvaluedollarcnt':'taxvalue','garagecarcnt':'garage','lotsizesquarefeet':'lots','poolcnt':'pool','regionidzip':'zipcode'},inplace=True)\n",
    "    zillow2017_df['fips']= zillow2017_df['fips'].astype(object)\n",
    "    value=[]\n",
    "    for row in zillow2017_df['fips']:\n",
    "        if row ==6037.0: value.append('Los Angeles County, CA')\n",
    "        elif row == 6059.0: value.append(\"Orange County, CA\")\n",
    "        elif row == 6111.0: value.append('Ventura County, CA')\n",
    "        else:\n",
    "            value.append('Undetermined')\n",
    "    zillow2017_df['county']=value\n",
    "    zillow2017_df['zipcode']=zillow2017_df['zipcode'].astype(object)\n",
    "    return zillow2017_df"
   ]
  },
  {
   "cell_type": "code",
   "execution_count": 9,
   "id": "f0664773",
   "metadata": {},
   "outputs": [],
   "source": [
    "def remove_outlier(k):\n",
    "    zillow2017_df=clean_column()\n",
    "    col_list=zillow2017_df.select_dtypes(float)\n",
    "    for col in col_list:\n",
    "        q1, q3 = zillow2017_df[col].quantile([.25, .75]) \n",
    "        iqr = q3 - q1  \n",
    "        upper_bound = q3 + k * iqr  \n",
    "        lower_bound = q1 - k * iqr  \n",
    "        zillow2017_df = zillow2017_df[(zillow2017_df[col] > lower_bound) & (zillow2017_df[col] < upper_bound)]\n",
    "    return zillow2017_df.dropna()"
   ]
  },
  {
   "cell_type": "code",
   "execution_count": 10,
   "id": "e60d6a2e",
   "metadata": {},
   "outputs": [],
   "source": [
    "def get_hist(k):\n",
    "    zillow2017_df=remove_outlier(k)\n",
    "    plt.figure(figsize=(16, 3))\n",
    "    cols = zillow2017_df.select_dtypes(float).columns\n",
    "    for i, col in enumerate(cols):\n",
    "        plot_num = i + 1 \n",
    "        plt.subplot(1, len(cols), plot_num)\n",
    "        plt.title(col)\n",
    "        zillow2017_df[col].hist(bins=5)\n",
    "        plt.grid(False)\n",
    "        plt.ticklabel_format(useOffset=False)\n",
    "        plt.tight_layout()\n",
    "    plt.show()"
   ]
  },
  {
   "cell_type": "code",
   "execution_count": 11,
   "id": "6a460848",
   "metadata": {},
   "outputs": [],
   "source": [
    "def wrangle_zillow(k):\n",
    "    zillow2017_df=remove_outlier(k)\n",
    "    get_hist(k)\n",
    "    train_validate, zillow_test = train_test_split(zillow2017_df, test_size=.2, random_state=123)\n",
    "    zillow_train, zillow_validate = train_test_split(train_validate, test_size=.3, random_state=123)\n",
    "    return zillow_train, zillow_validate, zillow_test"
   ]
  },
  {
   "cell_type": "code",
   "execution_count": null,
   "id": "1308bfd7",
   "metadata": {},
   "outputs": [],
   "source": []
  }
 ],
 "metadata": {
  "kernelspec": {
   "display_name": "Python 3 (ipykernel)",
   "language": "python",
   "name": "python3"
  },
  "language_info": {
   "codemirror_mode": {
    "name": "ipython",
    "version": 3
   },
   "file_extension": ".py",
   "mimetype": "text/x-python",
   "name": "python",
   "nbconvert_exporter": "python",
   "pygments_lexer": "ipython3",
   "version": "3.9.12"
  },
  "vscode": {
   "interpreter": {
    "hash": "31f2aee4e71d21fbe5cf8b01ff0e069b9275f58929596ceb00d14d90e3e16cd6"
   }
  }
 },
 "nbformat": 4,
 "nbformat_minor": 5
}
