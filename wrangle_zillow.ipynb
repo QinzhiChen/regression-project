{
 "cells": [
  {
   "cell_type": "code",
   "execution_count": 1,
   "id": "276e0564",
   "metadata": {},
   "outputs": [],
   "source": [
    "import warnings\n",
    "warnings.filterwarnings(\"ignore\")\n",
    "\n",
    "from sklearn.model_selection import train_test_split\n",
    "from sklearn.impute import SimpleImputer\n",
    "\n",
    "from env import user, password, host\n",
    "import pandas as pd\n",
    "import matplotlib.pyplot as plt\n",
    "import seaborn as sns\n",
    "import numpy as np\n",
    "import env\n",
    "import os\n",
    "import csv"
   ]
  },
  {
   "cell_type": "code",
   "execution_count": 2,
   "id": "46ac39a6",
   "metadata": {},
   "outputs": [],
   "source": [
    "def get_connection(db, user=env.user, host=env.host, password=env.password):\n",
    "    return f'mysql+pymysql://{user}:{password}@{host}/{db}'"
   ]
  },
  {
   "cell_type": "code",
   "execution_count": 3,
   "id": "e1295e5b",
   "metadata": {},
   "outputs": [],
   "source": [
    "def acquire_zillow():\n",
    "    file='zillow2017_df.csv'\n",
    "    if os.path.isfile(file):\n",
    "        return pd.read_csv(file)\n",
    "    else:\n",
    "        zillow2017_df = pd.read_sql(('SELECT bedroomcnt,bathroomcnt,calculatedfinishedsquarefeet, taxvaluedollarcnt, yearbuilt, taxamount, fips,lotsizesquarefeet,regionidzip,assessmentyear,transactiondate FROM properties_2017 JOIN propertylandusetype USING (propertylandusetypeid) JOIN predictions_2017 USING (id) WHERE propertylandusedesc IN (\"Single Family Residential\")'), get_connection('zillow'))\n",
    "        zillow2017_df.to_csv(file,index=False)\n",
    "    return zillow2017_df"
   ]
  },
  {
   "cell_type": "code",
   "execution_count": 4,
   "id": "8543c608",
   "metadata": {},
   "outputs": [],
   "source": [
    "def clean_column():\n",
    "    zillow2017_df=acquire_zillow()\n",
    "    zillow2017_df.rename(columns={'bedroomcnt':'bedroom','bathroomcnt':'bathroom','calculatedfinishedsquarefeet':'sqtft','taxvaluedollarcnt':'taxvalue','garagecarcnt':'garage','lotsizesquarefeet':'lots','poolcnt':'pool','regionidzip':'zipcode'},inplace=True)\n",
    "    zillow2017_df['fips']= zillow2017_df['fips'].astype(object)\n",
    "    zillow2017_df['yearbuilt']=zillow2017_df['yearbuilt'].astype(object)\n",
    "    zillow2017_df['assessmentyear']=zillow2017_df['assessmentyear'].astype(object)\n",
    "    zillow2017_df['zipcode']=zillow2017_df['zipcode'].astype(object)\n",
    "    return zillow2017_df"
   ]
  },
  {
   "cell_type": "code",
   "execution_count": 5,
   "id": "f0664773",
   "metadata": {},
   "outputs": [],
   "source": [
    "def remove_outlier(k):\n",
    "    zillow2017_df=clean_column()\n",
    "    col_list=zillow2017_df.select_dtypes(float)\n",
    "    for col in col_list:\n",
    "        q1, q3 = zillow2017_df[col].quantile([.25, .75]) \n",
    "        iqr = q3 - q1  \n",
    "        upper_bound = q3 + k * iqr  \n",
    "        lower_bound = q1 - k * iqr  \n",
    "        zillow2017_df = zillow2017_df[(zillow2017_df[col] > lower_bound) & (zillow2017_df[col] < upper_bound)]\n",
    "        zillow2017_df.dropna()\n",
    "    return zillow2017_df"
   ]
  },
  {
   "cell_type": "code",
   "execution_count": 6,
   "id": "e60d6a2e",
   "metadata": {},
   "outputs": [],
   "source": [
    "def get_hist(k):\n",
    "    zillow2017_df=remove_outlier(k)\n",
    "    plt.figure(figsize=(16, 3))\n",
    "    cols = zillow2017_df.select_dtypes(float).columns\n",
    "    for i, col in enumerate(cols):\n",
    "        plot_num = i + 1 \n",
    "        plt.subplot(1, len(cols), plot_num)\n",
    "        plt.title(col)\n",
    "        zillow2017_df[col].hist(bins=5)\n",
    "        plt.grid(False)\n",
    "        plt.ticklabel_format(useOffset=False)\n",
    "        plt.tight_layout()\n",
    "    plt.show()"
   ]
  },
  {
   "cell_type": "code",
   "execution_count": 7,
   "id": "6a460848",
   "metadata": {},
   "outputs": [],
   "source": [
    "def wrangle_zillow(k):\n",
    "    zillow2017_df=remove_outlier(k)\n",
    "    get_hist(k)\n",
    "    train_validate, zillow_test = train_test_split(zillow2017_df, test_size=.2, random_state=123)\n",
    "    zillow_train, zillow_validate = train_test_split(train_validate, test_size=.3, random_state=123)\n",
    "    return zillow_train, zillow_validate, zillow_test"
   ]
  },
  {
   "cell_type": "code",
   "execution_count": 9,
   "id": "77ee4ea4",
   "metadata": {},
   "outputs": [
    {
     "data": {
      "image/png": "[encoded data removed]",
      "text/plain": [
       "<Figure size 1152x216 with 6 Axes>"
      ]
     },
     "metadata": {
      "needs_background": "light"
     },
     "output_type": "display_data"
    }
   ],
   "source": [
    "zillow_train,zillow_validate,zillow_test=wrangle_zillow(1.5)"
   ]
  },
  {
   "cell_type": "code",
   "execution_count": 10,
   "id": "51b58d02",
   "metadata": {},
   "outputs": [
    {
     "name": "stdout",
     "output_type": "stream",
     "text": [
      "<class 'pandas.core.frame.DataFrame'>\n",
      "Int64Index: 24257 entries, 9653 to 47564\n",
      "Data columns (total 11 columns):\n",
      " #   Column           Non-Null Count  Dtype  \n",
      "---  ------           --------------  -----  \n",
      " 0   bedroom          24257 non-null  float64\n",
      " 1   bathroom         24257 non-null  float64\n",
      " 2   sqtft            24257 non-null  float64\n",
      " 3   taxvalue         24257 non-null  float64\n",
      " 4   yearbuilt        24249 non-null  object \n",
      " 5   taxamount        24257 non-null  float64\n",
      " 6   fips             24257 non-null  object \n",
      " 7   lots             24257 non-null  float64\n",
      " 8   zipcode          24247 non-null  object \n",
      " 9   assessmentyear   24257 non-null  object \n",
      " 10  transactiondate  24257 non-null  object \n",
      "dtypes: float64(6), object(5)\n",
      "memory usage: 2.2+ MB\n"
     ]
    }
   ],
   "source": [
    "zillow_train.info()"
   ]
  },
  {
   "cell_type": "code",
   "execution_count": null,
   "id": "6627f9b0",
   "metadata": {},
   "outputs": [],
   "source": []
  }
 ],
 "metadata": {
  "kernelspec": {
   "display_name": "Python 3 (ipykernel)",
   "language": "python",
   "name": "python3"
  },
  "language_info": {
   "codemirror_mode": {
    "name": "ipython",
    "version": 3
   },
   "file_extension": ".py",
   "mimetype": "text/x-python",
   "name": "python",
   "nbconvert_exporter": "python",
   "pygments_lexer": "ipython3",
   "version": "3.9.12"
  }
 },
 "nbformat": 4,
 "nbformat_minor": 5
}
