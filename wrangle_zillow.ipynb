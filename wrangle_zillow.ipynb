{
 "cells": [
  {
   "cell_type": "code",
   "execution_count": 1,
   "id": "276e0564",
   "metadata": {},
   "outputs": [],
   "source": [
    "def imports():\n",
    "    import warnings\n",
    "    warnings.filterwarnings(\"ignore\")\n",
    "    from sklearn.model_selection import train_test_split\n",
    "    from sklearn.impute import SimpleImputer\n",
    "    from sklearn.preprocessing import MinMaxScaler, StandardScaler, RobustScaler, QuantileTransformer\n",
    "    from env import user, password, host\n",
    "    from sklearn.feature_selection import SelectKBest, f_regression, RFE\n",
    "    from sklearn.linear_model import LinearRegression\n",
    "    import pandas as pd\n",
    "    import matplotlib.pyplot as plt\n",
    "    import seaborn as sns\n",
    "    import numpy as np\n",
    "    import os\n",
    "    import csv\n",
    "    import env\n",
    "    from sklearn.metrics import mean_squared_error\n",
    "    from sklearn.metrics import r2_score"
   ]
  },
  {
   "cell_type": "code",
   "execution_count": 2,
   "id": "1aa242e9",
   "metadata": {},
   "outputs": [],
   "source": [
    "import warnings\n",
    "warnings.filterwarnings(\"ignore\")\n",
    "from sklearn.model_selection import train_test_split\n",
    "from sklearn.impute import SimpleImputer\n",
    "from sklearn.preprocessing import MinMaxScaler, StandardScaler, RobustScaler, QuantileTransformer\n",
    "from env import user, password, host\n",
    "import env\n",
    "from sklearn.feature_selection import SelectKBest, f_regression, RFE\n",
    "from sklearn.linear_model import LinearRegression\n",
    "import pandas as pd\n",
    "import matplotlib.pyplot as plt\n",
    "import seaborn as sns\n",
    "import numpy as np\n",
    "import os\n",
    "import csv\n",
    "from sklearn.metrics import mean_squared_error\n",
    "from sklearn.metrics import r2_score"
   ]
  },
  {
   "cell_type": "code",
   "execution_count": 3,
   "id": "718bbed7",
   "metadata": {},
   "outputs": [],
   "source": [
    "imports()"
   ]
  },
  {
   "cell_type": "code",
   "execution_count": 4,
   "id": "46ac39a6",
   "metadata": {},
   "outputs": [],
   "source": [
    "def get_connection(db, user=env.user, host=env.host, password=env.password):\n",
    "    return f'mysql+pymysql://{user}:{password}@{host}/{db}'"
   ]
  },
  {
   "cell_type": "code",
   "execution_count": 5,
   "id": "e1295e5b",
   "metadata": {},
   "outputs": [],
   "source": [
    "def acquire_zillow():\n",
    "    file='zillow_df.csv'\n",
    "    if os.path.isfile(file):\n",
    "        return pd.read_csv(file)\n",
    "    else:\n",
    "        zillow2017_df = pd.read_sql(('SELECT transactiondate,bathroomcnt,bedroomcnt,fips,calculatedfinishedsquarefeet,regionidzip,taxvaluedollarcnt FROM properties_2017 JOIN propertylandusetype USING (propertylandusetypeid) JOIN predictions_2017 USING (id) WHERE predictions_2017.transactiondate like \"2017%%\"'), get_connection('zillow'))\n",
    "        zillow2017_df.to_csv(file,index=False)\n",
    "    return zillow2017_df"
   ]
  },
  {
   "cell_type": "code",
   "execution_count": 6,
   "id": "5b619114",
   "metadata": {},
   "outputs": [
    {
     "data": {
      "text/plain": [
       "3"
      ]
     },
     "execution_count": 6,
     "metadata": {},
     "output_type": "execute_result"
    }
   ],
   "source": [
    "zillow_df=acquire_zillow()\n",
    "zillow_df.fips.nunique()"
   ]
  },
  {
   "cell_type": "code",
   "execution_count": 7,
   "id": "1a8a0293",
   "metadata": {},
   "outputs": [
    {
     "data": {
      "text/html": [
       "<div>\n",
       "<style scoped>\n",
       "    .dataframe tbody tr th:only-of-type {\n",
       "        vertical-align: middle;\n",
       "    }\n",
       "\n",
       "    .dataframe tbody tr th {\n",
       "        vertical-align: top;\n",
       "    }\n",
       "\n",
       "    .dataframe thead th {\n",
       "        text-align: right;\n",
       "    }\n",
       "</style>\n",
       "<table border=\"1\" class=\"dataframe\">\n",
       "  <thead>\n",
       "    <tr style=\"text-align: right;\">\n",
       "      <th></th>\n",
       "      <th>bathroomcnt</th>\n",
       "      <th>bedroomcnt</th>\n",
       "      <th>calculatedfinishedsquarefeet</th>\n",
       "      <th>regionidzip</th>\n",
       "      <th>taxvaluedollarcnt</th>\n",
       "    </tr>\n",
       "    <tr>\n",
       "      <th>fips</th>\n",
       "      <th></th>\n",
       "      <th></th>\n",
       "      <th></th>\n",
       "      <th></th>\n",
       "      <th></th>\n",
       "    </tr>\n",
       "  </thead>\n",
       "  <tbody>\n",
       "    <tr>\n",
       "      <th>6037.0</th>\n",
       "      <td>115750.0</td>\n",
       "      <td>161625.0</td>\n",
       "      <td>93719421.0</td>\n",
       "      <td>5.020077e+09</td>\n",
       "      <td>2.212770e+10</td>\n",
       "    </tr>\n",
       "    <tr>\n",
       "      <th>6059.0</th>\n",
       "      <td>42277.5</td>\n",
       "      <td>57632.0</td>\n",
       "      <td>34728867.0</td>\n",
       "      <td>1.814541e+09</td>\n",
       "      <td>9.152360e+09</td>\n",
       "    </tr>\n",
       "    <tr>\n",
       "      <th>6111.0</th>\n",
       "      <td>13855.5</td>\n",
       "      <td>20100.0</td>\n",
       "      <td>11926310.0</td>\n",
       "      <td>6.333144e+08</td>\n",
       "      <td>2.520117e+09</td>\n",
       "    </tr>\n",
       "  </tbody>\n",
       "</table>\n",
       "</div>"
      ],
      "text/plain": [
       "        bathroomcnt  bedroomcnt  calculatedfinishedsquarefeet   regionidzip  \\\n",
       "fips                                                                          \n",
       "6037.0     115750.0    161625.0                    93719421.0  5.020077e+09   \n",
       "6059.0      42277.5     57632.0                    34728867.0  1.814541e+09   \n",
       "6111.0      13855.5     20100.0                    11926310.0  6.333144e+08   \n",
       "\n",
       "        taxvaluedollarcnt  \n",
       "fips                       \n",
       "6037.0       2.212770e+10  \n",
       "6059.0       9.152360e+09  \n",
       "6111.0       2.520117e+09  "
      ]
     },
     "execution_count": 7,
     "metadata": {},
     "output_type": "execute_result"
    }
   ],
   "source": [
    "zillow_df.groupby('fips').sum()"
   ]
  },
  {
   "cell_type": "code",
   "execution_count": 8,
   "id": "8543c608",
   "metadata": {},
   "outputs": [],
   "source": [
    "def clean_column():\n",
    "    zillow2017_df=acquire_zillow()\n",
    "    zillow2017_df.rename(columns={'bedroomcnt':'bedroom','bathroomcnt':'bathroom','calculatedfinishedsquarefeet':'sqtft','taxvaluedollarcnt':'taxvalue','garagecarcnt':'garage','lotsizesquarefeet':'lots','poolcnt':'pool','regionidzip':'zipcode'},inplace=True)\n",
    "    zillow2017_df['fips']= zillow2017_df['fips'].astype(object)\n",
    "    value=[]\n",
    "    for row in zillow2017_df['fips']:\n",
    "        if row ==6037.0: value.append('Los Angeles County, CA')\n",
    "        elif row == 6059.0: value.append(\"Orange County, CA\")\n",
    "        elif row == 6111.0: value.append('Ventura County, CA')\n",
    "        else:\n",
    "            value.append('Undetermined')\n",
    "    zillow2017_df['county']=value\n",
    "    zillow2017_df['zipcode']=zillow2017_df['zipcode'].astype(object)\n",
    "    return zillow2017_df"
   ]
  },
  {
   "cell_type": "code",
   "execution_count": 9,
   "id": "f0664773",
   "metadata": {},
   "outputs": [],
   "source": [
    "def remove_outlier(k):\n",
    "    zillow2017_df=clean_column()\n",
    "    col_list=zillow2017_df.select_dtypes(float)\n",
    "    for col in col_list:\n",
    "        q1, q3 = zillow2017_df[col].quantile([.25, .75]) \n",
    "        iqr = q3 - q1  \n",
    "        upper_bound = q3 + k * iqr  \n",
    "        lower_bound = q1 - k * iqr  \n",
    "        zillow2017_df = zillow2017_df[(zillow2017_df[col] > lower_bound) & (zillow2017_df[col] < upper_bound)]\n",
    "        zillow2017_df.dropna()\n",
    "    return zillow2017_df"
   ]
  },
  {
   "cell_type": "code",
   "execution_count": 10,
   "id": "e60d6a2e",
   "metadata": {},
   "outputs": [],
   "source": [
    "def get_hist(k):\n",
    "    zillow2017_df=remove_outlier(k)\n",
    "    plt.figure(figsize=(16, 3))\n",
    "    cols = zillow2017_df.select_dtypes(float).columns\n",
    "    for i, col in enumerate(cols):\n",
    "        plot_num = i + 1 \n",
    "        plt.subplot(1, len(cols), plot_num)\n",
    "        plt.title(col)\n",
    "        zillow2017_df[col].hist(bins=5)\n",
    "        plt.grid(False)\n",
    "        plt.ticklabel_format(useOffset=False)\n",
    "        plt.tight_layout()\n",
    "    plt.show()"
   ]
  },
  {
   "cell_type": "code",
   "execution_count": 11,
   "id": "6a460848",
   "metadata": {},
   "outputs": [],
   "source": [
    "def wrangle_zillow(k):\n",
    "    zillow2017_df=remove_outlier(k)\n",
    "    get_hist(k)\n",
    "    train_validate, zillow_test = train_test_split(zillow2017_df, test_size=.2, random_state=123)\n",
    "    zillow_train, zillow_validate = train_test_split(train_validate, test_size=.3, random_state=123)\n",
    "    return zillow_train, zillow_validate, zillow_test"
   ]
  },
  {
   "cell_type": "code",
   "execution_count": 12,
   "id": "77ee4ea4",
   "metadata": {},
   "outputs": [
    {
     "data": {
      "image/png": "[encoded data removed]",
      "text/plain": [
       "<Figure size 1152x216 with 4 Axes>"
      ]
     },
     "metadata": {
      "needs_background": "light"
     },
     "output_type": "display_data"
    }
   ],
   "source": [
    "zillow_train,zillow_validate,zillow_test=wrangle_zillow(1.5)"
   ]
  },
  {
   "cell_type": "code",
   "execution_count": 13,
   "id": "51b58d02",
   "metadata": {},
   "outputs": [
    {
     "name": "stdout",
     "output_type": "stream",
     "text": [
      "<class 'pandas.core.frame.DataFrame'>\n",
      "Int64Index: 37185 entries, 20929 to 18863\n",
      "Data columns (total 8 columns):\n",
      " #   Column           Non-Null Count  Dtype  \n",
      "---  ------           --------------  -----  \n",
      " 0   transactiondate  37185 non-null  object \n",
      " 1   bathroom         37185 non-null  float64\n",
      " 2   bedroom          37185 non-null  float64\n",
      " 3   fips             37185 non-null  object \n",
      " 4   sqtft            37185 non-null  float64\n",
      " 5   zipcode          37112 non-null  object \n",
      " 6   taxvalue         37185 non-null  float64\n",
      " 7   county           37185 non-null  object \n",
      "dtypes: float64(4), object(4)\n",
      "memory usage: 2.6+ MB\n"
     ]
    }
   ],
   "source": [
    "zillow_train.info()"
   ]
  },
  {
   "cell_type": "code",
   "execution_count": 14,
   "id": "6627f9b0",
   "metadata": {},
   "outputs": [
    {
     "data": {
      "text/plain": [
       "Los Angeles County, CA    25205\n",
       "Orange County, CA          8841\n",
       "Ventura County, CA         3139\n",
       "Name: county, dtype: int64"
      ]
     },
     "execution_count": 14,
     "metadata": {},
     "output_type": "execute_result"
    }
   ],
   "source": [
    "zillow_train.county.value_counts()"
   ]
  },
  {
   "cell_type": "code",
   "execution_count": 15,
   "id": "39a90c82",
   "metadata": {},
   "outputs": [
    {
     "data": {
      "text/plain": [
       "20929    2017-03-28\n",
       "68044    2017-08-18\n",
       "47591    2017-06-16\n",
       "2635     2017-01-12\n",
       "12678    2017-02-27\n",
       "            ...    \n",
       "34520    2017-05-09\n",
       "351      2017-01-03\n",
       "24696    2017-04-07\n",
       "60017    2017-07-24\n",
       "18863    2017-03-21\n",
       "Name: transactiondate, Length: 37185, dtype: object"
      ]
     },
     "execution_count": 15,
     "metadata": {},
     "output_type": "execute_result"
    }
   ],
   "source": [
    "zillow_train.transactiondate"
   ]
  },
  {
   "cell_type": "code",
   "execution_count": 16,
   "id": "67344637",
   "metadata": {},
   "outputs": [
    {
     "data": {
      "text/plain": [
       "2017-06-30    590\n",
       "2017-07-28    442\n",
       "2017-06-16    435\n",
       "2017-05-31    432\n",
       "2017-03-31    429\n",
       "             ... \n",
       "2017-03-26      1\n",
       "2017-04-02      1\n",
       "2017-03-25      1\n",
       "2017-05-06      1\n",
       "2017-01-14      1\n",
       "Name: transactiondate, Length: 247, dtype: int64"
      ]
     },
     "execution_count": 16,
     "metadata": {},
     "output_type": "execute_result"
    }
   ],
   "source": [
    "zillow_train.transactiondate.value_counts()"
   ]
  },
  {
   "cell_type": "code",
   "execution_count": null,
   "id": "1308bfd7",
   "metadata": {},
   "outputs": [],
   "source": []
  }
 ],
 "metadata": {
  "kernelspec": {
   "display_name": "Python 3.8.9 64-bit",
   "language": "python",
   "name": "python3"
  },
  "language_info": {
   "codemirror_mode": {
    "name": "ipython",
    "version": 3
   },
   "file_extension": ".py",
   "mimetype": "text/x-python",
   "name": "python",
   "nbconvert_exporter": "python",
   "pygments_lexer": "ipython3",
   "version": "3.8.9"
  },
  "vscode": {
   "interpreter": {
    "hash": "31f2aee4e71d21fbe5cf8b01ff0e069b9275f58929596ceb00d14d90e3e16cd6"
   }
  }
 },
 "nbformat": 4,
 "nbformat_minor": 5
}
