{
 "cells": [
  {
   "cell_type": "code",
   "execution_count": 2,
   "id": "d55f556b",
   "metadata": {},
   "outputs": [],
   "source": [
    "import numpy as np\n",
    "import pandas as pd\n",
    "\n",
    "np.random.seed(406)\n",
    "\n",
    "n = 5000\n",
    "df = pd.DataFrame({\n",
    "    'favorite_animal': np.random.choice(['cat', 'dog', 'frog', 'lemur', 'panda'], n),\n",
    "    'favorite_vegetable': np.random.choice(['brussel sprouts', 'potato', 'squash'], n),\n",
    "    'favorite_fruit': np.random.choice(['banana', 'apple', 'blueberries'], n),\n",
    "    'wears_glasses': np.random.choice(['yes', 'no'], n),\n",
    "    'netflix_consumption': np.random.normal(10, 2, n),\n",
    "    'open_browser_tabs': np.random.randint(2, 90, n),\n",
    "})"
   ]
  },
  {
   "cell_type": "code",
   "execution_count": 6,
   "id": "2a93d7ad",
   "metadata": {},
   "outputs": [
    {
     "data": {
      "text/plain": [
       "17.534818515438925"
      ]
     },
     "execution_count": 6,
     "metadata": {},
     "output_type": "execute_result"
    }
   ],
   "source": [
    "# What is the highest amount of netflix consumption? \n",
    "df.netflix_consumption.max()"
   ]
  },
  {
   "cell_type": "code",
   "execution_count": 10,
   "id": "e30ad94c",
   "metadata": {},
   "outputs": [
    {
     "data": {
      "text/plain": [
       "(2555, 0.511)"
      ]
     },
     "execution_count": 10,
     "metadata": {},
     "output_type": "execute_result"
    }
   ],
   "source": [
    "#  How many people wear glasses? What percentage of people is this\n",
    "len(df[df.wears_glasses=='yes']),len(df[df.wears_glasses=='yes'])/len(df.wears_glasses)"
   ]
  },
  {
   "cell_type": "code",
   "execution_count": 13,
   "id": "f43b9168",
   "metadata": {},
   "outputs": [
    {
     "data": {
      "text/plain": [
       "1002"
      ]
     },
     "execution_count": 13,
     "metadata": {},
     "output_type": "execute_result"
    }
   ],
   "source": [
    "# How many people's favorite animal is a dog\n",
    "len(df[df.favorite_animal=='dog'])"
   ]
  },
  {
   "cell_type": "code",
   "execution_count": 14,
   "id": "028f8495",
   "metadata": {},
   "outputs": [
    {
     "data": {
      "text/plain": [
       "0    lemur\n",
       "Name: favorite_animal, dtype: object"
      ]
     },
     "execution_count": 14,
     "metadata": {},
     "output_type": "execute_result"
    }
   ],
   "source": [
    "# What is the most common favorite animal\n",
    "df.favorite_animal.mode()"
   ]
  },
  {
   "cell_type": "code",
   "execution_count": 22,
   "id": "4f70e547",
   "metadata": {},
   "outputs": [
    {
     "data": {
      "text/plain": [
       "10.00847154798366"
      ]
     },
     "execution_count": 22,
     "metadata": {},
     "output_type": "execute_result"
    }
   ],
   "source": [
    "# What is the average netflix consumption for people that prefer brussel sprouts?\n",
    "(df[df.favorite_vegetable=='brussel sprouts']).netflix_consumption.mean()"
   ]
  },
  {
   "cell_type": "code",
   "execution_count": 34,
   "id": "32e41310",
   "metadata": {},
   "outputs": [
    {
     "name": "stderr",
     "output_type": "stream",
     "text": [
      "/var/folders/3k/kd9rcxws7ygft2krzxncw_400000gn/T/ipykernel_4863/4143785179.py:2: UserWarning: Boolean Series key will be reindexed to match DataFrame index.\n",
      "  ((df[df.open_browser_tabs>40])[df.wears_glasses=='yes']).favorite_fruit.mode()\n"
     ]
    },
    {
     "data": {
      "text/plain": [
       "0    blueberries\n",
       "Name: favorite_fruit, dtype: object"
      ]
     },
     "execution_count": 34,
     "metadata": {},
     "output_type": "execute_result"
    }
   ],
   "source": [
    "# What is the most common favorite fruit for people who wear glasses and have more than 40 open browser tabs\n",
    "((df[df.open_browser_tabs>40])[df.wears_glasses=='yes']).favorite_fruit.mode()"
   ]
  },
  {
   "cell_type": "code",
   "execution_count": null,
   "id": "2e1eea27",
   "metadata": {},
   "outputs": [],
   "source": []
  }
 ],
 "metadata": {
  "kernelspec": {
   "display_name": "Python 3 (ipykernel)",
   "language": "python",
   "name": "python3"
  },
  "language_info": {
   "codemirror_mode": {
    "name": "ipython",
    "version": 3
   },
   "file_extension": ".py",
   "mimetype": "text/x-python",
   "name": "python",
   "nbconvert_exporter": "python",
   "pygments_lexer": "ipython3",
   "version": "3.9.12"
  }
 },
 "nbformat": 4,
 "nbformat_minor": 5
}
