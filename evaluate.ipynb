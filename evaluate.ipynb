{
 "cells": [
  {
   "cell_type": "code",
   "execution_count": 1,
   "id": "1303b34b",
   "metadata": {},
   "outputs": [],
   "source": [
    "import warnings\n",
    "warnings.filterwarnings(\"ignore\")\n",
    "from sklearn.model_selection import train_test_split\n",
    "from sklearn.impute import SimpleImputer\n",
    "from sklearn.preprocessing import MinMaxScaler, StandardScaler, RobustScaler, QuantileTransformer\n",
    "from env import user, password, host\n",
    "import pandas as pd\n",
    "import matplotlib.pyplot as plt\n",
    "import seaborn as sns\n",
    "import numpy as np\n",
    "import env\n",
    "import os\n",
    "import csv\n",
    "import wrangle_zillow\n",
    "import prepare\n",
    "from sklearn.metrics import mean_squared_error\n",
    "from sklearn.metrics import r2_score"
   ]
  },
  {
   "cell_type": "code",
   "execution_count": 2,
   "id": "617ef8e5",
   "metadata": {},
   "outputs": [
    {
     "data": {
      "image/png": "[encoded data removed]",
      "text/plain": [
       "<Figure size 1152x216 with 6 Axes>"
      ]
     },
     "metadata": {
      "needs_background": "light"
     },
     "output_type": "display_data"
    }
   ],
   "source": [
    "# load zillow data\n",
    "zillow_train,zillow_validate,zillow_test=wrangle_zillow.wrangle_zillow(1.5)"
   ]
  },
  {
   "cell_type": "code",
   "execution_count": 3,
   "id": "7cedddd4",
   "metadata": {},
   "outputs": [
    {
     "data": {
      "text/plain": [
       "Index(['bedroom', 'bathroom', 'sqtft', 'taxvalue', 'yearbuilt', 'taxamount',\n",
       "       'fips', 'lots', 'zipcode', 'assessmentyear', 'transactiondate',\n",
       "       'taxrate'],\n",
       "      dtype='object')"
      ]
     },
     "execution_count": 3,
     "metadata": {},
     "output_type": "execute_result"
    }
   ],
   "source": [
    "# understand the data\n",
    "zillow_train.columns"
   ]
  },
  {
   "cell_type": "code",
   "execution_count": 4,
   "id": "c5dfbcdd",
   "metadata": {},
   "outputs": [
    {
     "name": "stdout",
     "output_type": "stream",
     "text": [
      "<class 'pandas.core.frame.DataFrame'>\n",
      "Int64Index: 24257 entries, 9653 to 47564\n",
      "Data columns (total 12 columns):\n",
      " #   Column           Non-Null Count  Dtype  \n",
      "---  ------           --------------  -----  \n",
      " 0   bedroom          24257 non-null  float64\n",
      " 1   bathroom         24257 non-null  float64\n",
      " 2   sqtft            24257 non-null  float64\n",
      " 3   taxvalue         24257 non-null  float64\n",
      " 4   yearbuilt        24249 non-null  object \n",
      " 5   taxamount        24257 non-null  float64\n",
      " 6   fips             24257 non-null  object \n",
      " 7   lots             24257 non-null  float64\n",
      " 8   zipcode          24247 non-null  object \n",
      " 9   assessmentyear   24257 non-null  object \n",
      " 10  transactiondate  24257 non-null  object \n",
      " 11  taxrate          24257 non-null  object \n",
      "dtypes: float64(6), object(6)\n",
      "memory usage: 2.4+ MB\n"
     ]
    }
   ],
   "source": [
    "# understand the data\n",
    "zillow_train.info()"
   ]
  },
  {
   "cell_type": "code",
   "execution_count": 5,
   "id": "dfcdebc4",
   "metadata": {},
   "outputs": [],
   "source": [
    "# drop columns for problem 2\n",
    "zillow_train = zillow_train.drop(columns=['bedroom', 'bathroom', 'yearbuilt', 'taxamount',\n",
    "       'fips', 'lots', 'zipcode', 'assessmentyear', 'transactiondate',\n",
    "       'taxrate'])"
   ]
  },
  {
   "cell_type": "code",
   "execution_count": 6,
   "id": "6b70a4ed",
   "metadata": {},
   "outputs": [
    {
     "data": {
      "text/html": [
       "<div>\n",
       "<style scoped>\n",
       "    .dataframe tbody tr th:only-of-type {\n",
       "        vertical-align: middle;\n",
       "    }\n",
       "\n",
       "    .dataframe tbody tr th {\n",
       "        vertical-align: top;\n",
       "    }\n",
       "\n",
       "    .dataframe thead th {\n",
       "        text-align: right;\n",
       "    }\n",
       "</style>\n",
       "<table border=\"1\" class=\"dataframe\">\n",
       "  <thead>\n",
       "    <tr style=\"text-align: right;\">\n",
       "      <th></th>\n",
       "      <th>sqtft</th>\n",
       "      <th>taxvalue</th>\n",
       "    </tr>\n",
       "  </thead>\n",
       "  <tbody>\n",
       "    <tr>\n",
       "      <th>9653</th>\n",
       "      <td>2620.0</td>\n",
       "      <td>615795.0</td>\n",
       "    </tr>\n",
       "    <tr>\n",
       "      <th>27478</th>\n",
       "      <td>917.0</td>\n",
       "      <td>228431.0</td>\n",
       "    </tr>\n",
       "    <tr>\n",
       "      <th>23921</th>\n",
       "      <td>1513.0</td>\n",
       "      <td>71351.0</td>\n",
       "    </tr>\n",
       "    <tr>\n",
       "      <th>26263</th>\n",
       "      <td>1100.0</td>\n",
       "      <td>240942.0</td>\n",
       "    </tr>\n",
       "    <tr>\n",
       "      <th>36764</th>\n",
       "      <td>1144.0</td>\n",
       "      <td>127118.0</td>\n",
       "    </tr>\n",
       "    <tr>\n",
       "      <th>...</th>\n",
       "      <td>...</td>\n",
       "      <td>...</td>\n",
       "    </tr>\n",
       "    <tr>\n",
       "      <th>5108</th>\n",
       "      <td>1532.0</td>\n",
       "      <td>144516.0</td>\n",
       "    </tr>\n",
       "    <tr>\n",
       "      <th>37436</th>\n",
       "      <td>1045.0</td>\n",
       "      <td>156323.0</td>\n",
       "    </tr>\n",
       "    <tr>\n",
       "      <th>24363</th>\n",
       "      <td>2392.0</td>\n",
       "      <td>345196.0</td>\n",
       "    </tr>\n",
       "    <tr>\n",
       "      <th>24885</th>\n",
       "      <td>1212.0</td>\n",
       "      <td>53253.0</td>\n",
       "    </tr>\n",
       "    <tr>\n",
       "      <th>47564</th>\n",
       "      <td>778.0</td>\n",
       "      <td>243431.0</td>\n",
       "    </tr>\n",
       "  </tbody>\n",
       "</table>\n",
       "<p>24257 rows × 2 columns</p>\n",
       "</div>"
      ],
      "text/plain": [
       "        sqtft  taxvalue\n",
       "9653   2620.0  615795.0\n",
       "27478   917.0  228431.0\n",
       "23921  1513.0   71351.0\n",
       "26263  1100.0  240942.0\n",
       "36764  1144.0  127118.0\n",
       "...       ...       ...\n",
       "5108   1532.0  144516.0\n",
       "37436  1045.0  156323.0\n",
       "24363  2392.0  345196.0\n",
       "24885  1212.0   53253.0\n",
       "47564   778.0  243431.0\n",
       "\n",
       "[24257 rows x 2 columns]"
      ]
     },
     "execution_count": 6,
     "metadata": {},
     "output_type": "execute_result"
    }
   ],
   "source": [
    "# validate the previous code is inplace\n",
    "zillow_train"
   ]
  },
  {
   "cell_type": "code",
   "execution_count": 7,
   "id": "1b3752b1",
   "metadata": {},
   "outputs": [],
   "source": [
    "# problem 2\n",
    "# linear regression\n",
    "zillow_train['sqtft'] = MinMaxScaler().fit_transform(zillow_train[['sqtft']])"
   ]
  },
  {
   "cell_type": "code",
   "execution_count": 8,
   "id": "ad9e07be",
   "metadata": {},
   "outputs": [
    {
     "data": {
      "text/html": [
       "<div>\n",
       "<style scoped>\n",
       "    .dataframe tbody tr th:only-of-type {\n",
       "        vertical-align: middle;\n",
       "    }\n",
       "\n",
       "    .dataframe tbody tr th {\n",
       "        vertical-align: top;\n",
       "    }\n",
       "\n",
       "    .dataframe thead th {\n",
       "        text-align: right;\n",
       "    }\n",
       "</style>\n",
       "<table border=\"1\" class=\"dataframe\">\n",
       "  <thead>\n",
       "    <tr style=\"text-align: right;\">\n",
       "      <th></th>\n",
       "      <th>sqtft</th>\n",
       "      <th>taxvalue</th>\n",
       "    </tr>\n",
       "  </thead>\n",
       "  <tbody>\n",
       "    <tr>\n",
       "      <th>9653</th>\n",
       "      <td>0.730563</td>\n",
       "      <td>615795.0</td>\n",
       "    </tr>\n",
       "    <tr>\n",
       "      <th>27478</th>\n",
       "      <td>0.159853</td>\n",
       "      <td>228431.0</td>\n",
       "    </tr>\n",
       "    <tr>\n",
       "      <th>23921</th>\n",
       "      <td>0.359584</td>\n",
       "      <td>71351.0</td>\n",
       "    </tr>\n",
       "    <tr>\n",
       "      <th>26263</th>\n",
       "      <td>0.221180</td>\n",
       "      <td>240942.0</td>\n",
       "    </tr>\n",
       "    <tr>\n",
       "      <th>36764</th>\n",
       "      <td>0.235925</td>\n",
       "      <td>127118.0</td>\n",
       "    </tr>\n",
       "    <tr>\n",
       "      <th>...</th>\n",
       "      <td>...</td>\n",
       "      <td>...</td>\n",
       "    </tr>\n",
       "    <tr>\n",
       "      <th>5108</th>\n",
       "      <td>0.365952</td>\n",
       "      <td>144516.0</td>\n",
       "    </tr>\n",
       "    <tr>\n",
       "      <th>37436</th>\n",
       "      <td>0.202748</td>\n",
       "      <td>156323.0</td>\n",
       "    </tr>\n",
       "    <tr>\n",
       "      <th>24363</th>\n",
       "      <td>0.654155</td>\n",
       "      <td>345196.0</td>\n",
       "    </tr>\n",
       "    <tr>\n",
       "      <th>24885</th>\n",
       "      <td>0.258713</td>\n",
       "      <td>53253.0</td>\n",
       "    </tr>\n",
       "    <tr>\n",
       "      <th>47564</th>\n",
       "      <td>0.113271</td>\n",
       "      <td>243431.0</td>\n",
       "    </tr>\n",
       "  </tbody>\n",
       "</table>\n",
       "<p>24257 rows × 2 columns</p>\n",
       "</div>"
      ],
      "text/plain": [
       "          sqtft  taxvalue\n",
       "9653   0.730563  615795.0\n",
       "27478  0.159853  228431.0\n",
       "23921  0.359584   71351.0\n",
       "26263  0.221180  240942.0\n",
       "36764  0.235925  127118.0\n",
       "...         ...       ...\n",
       "5108   0.365952  144516.0\n",
       "37436  0.202748  156323.0\n",
       "24363  0.654155  345196.0\n",
       "24885  0.258713   53253.0\n",
       "47564  0.113271  243431.0\n",
       "\n",
       "[24257 rows x 2 columns]"
      ]
     },
     "execution_count": 8,
     "metadata": {},
     "output_type": "execute_result"
    }
   ],
   "source": [
    "zillow_train"
   ]
  },
  {
   "cell_type": "code",
   "execution_count": 9,
   "id": "7a07522a",
   "metadata": {},
   "outputs": [],
   "source": [
    "# split to x_train and y_train\n",
    "zillow_x_train = zillow_train[['sqtft']]\n",
    "zillow_y_train = zillow_train.taxvalue\n",
    "\n",
    "zillow_x_validate = zillow_validate[['sqtft']]\n",
    "zillow_y_validate = zillow_validate.taxvalue\n",
    "\n",
    "zillow_x_test = zillow_test[['sqtft']]\n",
    "zillow_y_test = zillow_test.taxvalue"
   ]
  },
  {
   "cell_type": "code",
   "execution_count": 10,
   "id": "babbb25a",
   "metadata": {},
   "outputs": [],
   "source": [
    "# linear regression\n",
    "from sklearn.linear_model import LinearRegression\n",
    "model = LinearRegression().fit(zillow_x_train, zillow_y_train)\n",
    "predictions = model.predict(zillow_x_train)"
   ]
  },
  {
   "cell_type": "code",
   "execution_count": 11,
   "id": "0137ab4a",
   "metadata": {},
   "outputs": [
    {
     "data": {
      "text/plain": [
       "array([472491.89976391, 214582.04570067, 304842.92240161, ...,\n",
       "       437962.57109309, 259258.15077915, 193531.27076538])"
      ]
     },
     "execution_count": 11,
     "metadata": {},
     "output_type": "execute_result"
    }
   ],
   "source": [
    "predictions"
   ]
  },
  {
   "cell_type": "code",
   "execution_count": 12,
   "id": "0a749c2a",
   "metadata": {},
   "outputs": [],
   "source": [
    "zillow_train['yhat']=predictions"
   ]
  },
  {
   "cell_type": "code",
   "execution_count": 13,
   "id": "f230de95",
   "metadata": {},
   "outputs": [
    {
     "data": {
      "text/html": [
       "<div>\n",
       "<style scoped>\n",
       "    .dataframe tbody tr th:only-of-type {\n",
       "        vertical-align: middle;\n",
       "    }\n",
       "\n",
       "    .dataframe tbody tr th {\n",
       "        vertical-align: top;\n",
       "    }\n",
       "\n",
       "    .dataframe thead th {\n",
       "        text-align: right;\n",
       "    }\n",
       "</style>\n",
       "<table border=\"1\" class=\"dataframe\">\n",
       "  <thead>\n",
       "    <tr style=\"text-align: right;\">\n",
       "      <th></th>\n",
       "      <th>sqtft</th>\n",
       "      <th>taxvalue</th>\n",
       "      <th>yhat</th>\n",
       "    </tr>\n",
       "  </thead>\n",
       "  <tbody>\n",
       "    <tr>\n",
       "      <th>9653</th>\n",
       "      <td>0.730563</td>\n",
       "      <td>615795.0</td>\n",
       "      <td>472491.899764</td>\n",
       "    </tr>\n",
       "    <tr>\n",
       "      <th>27478</th>\n",
       "      <td>0.159853</td>\n",
       "      <td>228431.0</td>\n",
       "      <td>214582.045701</td>\n",
       "    </tr>\n",
       "    <tr>\n",
       "      <th>23921</th>\n",
       "      <td>0.359584</td>\n",
       "      <td>71351.0</td>\n",
       "      <td>304842.922402</td>\n",
       "    </tr>\n",
       "    <tr>\n",
       "      <th>26263</th>\n",
       "      <td>0.221180</td>\n",
       "      <td>240942.0</td>\n",
       "      <td>242296.375292</td>\n",
       "    </tr>\n",
       "    <tr>\n",
       "      <th>36764</th>\n",
       "      <td>0.235925</td>\n",
       "      <td>127118.0</td>\n",
       "      <td>248959.929948</td>\n",
       "    </tr>\n",
       "    <tr>\n",
       "      <th>...</th>\n",
       "      <td>...</td>\n",
       "      <td>...</td>\n",
       "      <td>...</td>\n",
       "    </tr>\n",
       "    <tr>\n",
       "      <th>5108</th>\n",
       "      <td>0.365952</td>\n",
       "      <td>144516.0</td>\n",
       "      <td>307720.366458</td>\n",
       "    </tr>\n",
       "    <tr>\n",
       "      <th>37436</th>\n",
       "      <td>0.202748</td>\n",
       "      <td>156323.0</td>\n",
       "      <td>233966.931972</td>\n",
       "    </tr>\n",
       "    <tr>\n",
       "      <th>24363</th>\n",
       "      <td>0.654155</td>\n",
       "      <td>345196.0</td>\n",
       "      <td>437962.571093</td>\n",
       "    </tr>\n",
       "    <tr>\n",
       "      <th>24885</th>\n",
       "      <td>0.258713</td>\n",
       "      <td>53253.0</td>\n",
       "      <td>259258.150779</td>\n",
       "    </tr>\n",
       "    <tr>\n",
       "      <th>47564</th>\n",
       "      <td>0.113271</td>\n",
       "      <td>243431.0</td>\n",
       "      <td>193531.270765</td>\n",
       "    </tr>\n",
       "  </tbody>\n",
       "</table>\n",
       "<p>24257 rows × 3 columns</p>\n",
       "</div>"
      ],
      "text/plain": [
       "          sqtft  taxvalue           yhat\n",
       "9653   0.730563  615795.0  472491.899764\n",
       "27478  0.159853  228431.0  214582.045701\n",
       "23921  0.359584   71351.0  304842.922402\n",
       "26263  0.221180  240942.0  242296.375292\n",
       "36764  0.235925  127118.0  248959.929948\n",
       "...         ...       ...            ...\n",
       "5108   0.365952  144516.0  307720.366458\n",
       "37436  0.202748  156323.0  233966.931972\n",
       "24363  0.654155  345196.0  437962.571093\n",
       "24885  0.258713   53253.0  259258.150779\n",
       "47564  0.113271  243431.0  193531.270765\n",
       "\n",
       "[24257 rows x 3 columns]"
      ]
     },
     "execution_count": 13,
     "metadata": {},
     "output_type": "execute_result"
    }
   ],
   "source": [
    "zillow_train"
   ]
  },
  {
   "cell_type": "code",
   "execution_count": 14,
   "id": "9f391549",
   "metadata": {},
   "outputs": [
    {
     "data": {
      "text/html": [
       "<div>\n",
       "<style scoped>\n",
       "    .dataframe tbody tr th:only-of-type {\n",
       "        vertical-align: middle;\n",
       "    }\n",
       "\n",
       "    .dataframe tbody tr th {\n",
       "        vertical-align: top;\n",
       "    }\n",
       "\n",
       "    .dataframe thead th {\n",
       "        text-align: right;\n",
       "    }\n",
       "</style>\n",
       "<table border=\"1\" class=\"dataframe\">\n",
       "  <thead>\n",
       "    <tr style=\"text-align: right;\">\n",
       "      <th></th>\n",
       "      <th>sqtft</th>\n",
       "      <th>taxvalue</th>\n",
       "      <th>yhat</th>\n",
       "      <th>residual</th>\n",
       "    </tr>\n",
       "  </thead>\n",
       "  <tbody>\n",
       "    <tr>\n",
       "      <th>9653</th>\n",
       "      <td>0.730563</td>\n",
       "      <td>615795.0</td>\n",
       "      <td>472491.899764</td>\n",
       "      <td>143303.100236</td>\n",
       "    </tr>\n",
       "    <tr>\n",
       "      <th>27478</th>\n",
       "      <td>0.159853</td>\n",
       "      <td>228431.0</td>\n",
       "      <td>214582.045701</td>\n",
       "      <td>13848.954299</td>\n",
       "    </tr>\n",
       "    <tr>\n",
       "      <th>23921</th>\n",
       "      <td>0.359584</td>\n",
       "      <td>71351.0</td>\n",
       "      <td>304842.922402</td>\n",
       "      <td>-233491.922402</td>\n",
       "    </tr>\n",
       "    <tr>\n",
       "      <th>26263</th>\n",
       "      <td>0.221180</td>\n",
       "      <td>240942.0</td>\n",
       "      <td>242296.375292</td>\n",
       "      <td>-1354.375292</td>\n",
       "    </tr>\n",
       "    <tr>\n",
       "      <th>36764</th>\n",
       "      <td>0.235925</td>\n",
       "      <td>127118.0</td>\n",
       "      <td>248959.929948</td>\n",
       "      <td>-121841.929948</td>\n",
       "    </tr>\n",
       "    <tr>\n",
       "      <th>...</th>\n",
       "      <td>...</td>\n",
       "      <td>...</td>\n",
       "      <td>...</td>\n",
       "      <td>...</td>\n",
       "    </tr>\n",
       "    <tr>\n",
       "      <th>5108</th>\n",
       "      <td>0.365952</td>\n",
       "      <td>144516.0</td>\n",
       "      <td>307720.366458</td>\n",
       "      <td>-163204.366458</td>\n",
       "    </tr>\n",
       "    <tr>\n",
       "      <th>37436</th>\n",
       "      <td>0.202748</td>\n",
       "      <td>156323.0</td>\n",
       "      <td>233966.931972</td>\n",
       "      <td>-77643.931972</td>\n",
       "    </tr>\n",
       "    <tr>\n",
       "      <th>24363</th>\n",
       "      <td>0.654155</td>\n",
       "      <td>345196.0</td>\n",
       "      <td>437962.571093</td>\n",
       "      <td>-92766.571093</td>\n",
       "    </tr>\n",
       "    <tr>\n",
       "      <th>24885</th>\n",
       "      <td>0.258713</td>\n",
       "      <td>53253.0</td>\n",
       "      <td>259258.150779</td>\n",
       "      <td>-206005.150779</td>\n",
       "    </tr>\n",
       "    <tr>\n",
       "      <th>47564</th>\n",
       "      <td>0.113271</td>\n",
       "      <td>243431.0</td>\n",
       "      <td>193531.270765</td>\n",
       "      <td>49899.729235</td>\n",
       "    </tr>\n",
       "  </tbody>\n",
       "</table>\n",
       "<p>24257 rows × 4 columns</p>\n",
       "</div>"
      ],
      "text/plain": [
       "          sqtft  taxvalue           yhat       residual\n",
       "9653   0.730563  615795.0  472491.899764  143303.100236\n",
       "27478  0.159853  228431.0  214582.045701   13848.954299\n",
       "23921  0.359584   71351.0  304842.922402 -233491.922402\n",
       "26263  0.221180  240942.0  242296.375292   -1354.375292\n",
       "36764  0.235925  127118.0  248959.929948 -121841.929948\n",
       "...         ...       ...            ...            ...\n",
       "5108   0.365952  144516.0  307720.366458 -163204.366458\n",
       "37436  0.202748  156323.0  233966.931972  -77643.931972\n",
       "24363  0.654155  345196.0  437962.571093  -92766.571093\n",
       "24885  0.258713   53253.0  259258.150779 -206005.150779\n",
       "47564  0.113271  243431.0  193531.270765   49899.729235\n",
       "\n",
       "[24257 rows x 4 columns]"
      ]
     },
     "execution_count": 14,
     "metadata": {},
     "output_type": "execute_result"
    }
   ],
   "source": [
    "# create residual columns\n",
    "zillow_train['residual']=zillow_train.taxvalue-zillow_train.yhat\n",
    "zillow_train"
   ]
  },
  {
   "cell_type": "code",
   "execution_count": 15,
   "id": "a51c6690",
   "metadata": {},
   "outputs": [
    {
     "data": {
      "image/png": "[encoded data removed]",
      "text/plain": [
       "<Figure size 432x288 with 1 Axes>"
      ]
     },
     "metadata": {
      "needs_background": "light"
     },
     "output_type": "display_data"
    }
   ],
   "source": [
    "# problem 3\n",
    "sns.scatterplot(data=zillow_train, x='taxvalue', y='residual')\n",
    "\n",
    "plt.xlabel('Home Value')\n",
    "plt.ylabel('Residual')\n",
    "plt.title('Residual vs Home Value Plot')\n",
    "plt.show()"
   ]
  },
  {
   "cell_type": "code",
   "execution_count": 16,
   "id": "66fe67b9",
   "metadata": {},
   "outputs": [
    {
     "data": {
      "text/plain": [
       "31518921688.292255"
      ]
     },
     "execution_count": 16,
     "metadata": {},
     "output_type": "execute_result"
    }
   ],
   "source": [
    "# Calculate the sum of squared errors, explained sum of squares, \n",
    "# total sum of squares, mean squared error, and root mean squared error for your model\n",
    "MSE = mean_squared_error(zillow_train.taxvalue, zillow_train.yhat)\n",
    "MSE"
   ]
  },
  {
   "cell_type": "code",
   "execution_count": 17,
   "id": "58dfb025",
   "metadata": {},
   "outputs": [
    {
     "data": {
      "text/plain": [
       "764554483392905.2"
      ]
     },
     "execution_count": 17,
     "metadata": {},
     "output_type": "execute_result"
    }
   ],
   "source": [
    "SSE = MSE * len(zillow_train)\n",
    "SSE"
   ]
  },
  {
   "cell_type": "code",
   "execution_count": 18,
   "id": "1980df6d",
   "metadata": {},
   "outputs": [
    {
     "data": {
      "text/plain": [
       "177535.69130823316"
      ]
     },
     "execution_count": 18,
     "metadata": {},
     "output_type": "execute_result"
    }
   ],
   "source": [
    "RMSE = MSE**.5\n",
    "RMSE"
   ]
  },
  {
   "cell_type": "code",
   "execution_count": 19,
   "id": "e89977f5",
   "metadata": {},
   "outputs": [
    {
     "data": {
      "text/plain": [
       "163345256050760.9"
      ]
     },
     "execution_count": 19,
     "metadata": {},
     "output_type": "execute_result"
    }
   ],
   "source": [
    "ESS = ((zillow_train.yhat - zillow_train.taxvalue.mean())**2).sum()\n",
    "ESS"
   ]
  },
  {
   "cell_type": "code",
   "execution_count": 20,
   "id": "612ca2ed",
   "metadata": {},
   "outputs": [
    {
     "data": {
      "text/plain": [
       "927899739443666.1"
      ]
     },
     "execution_count": 20,
     "metadata": {},
     "output_type": "execute_result"
    }
   ],
   "source": [
    "TSS = ESS + SSE\n",
    "TSS"
   ]
  },
  {
   "cell_type": "code",
   "execution_count": 21,
   "id": "9ca1e707",
   "metadata": {},
   "outputs": [],
   "source": [
    "zillow_train['baseline'] = zillow_train.taxvalue.mean()"
   ]
  },
  {
   "cell_type": "code",
   "execution_count": 22,
   "id": "7d4f87b9",
   "metadata": {},
   "outputs": [
    {
     "data": {
      "text/html": [
       "<div>\n",
       "<style scoped>\n",
       "    .dataframe tbody tr th:only-of-type {\n",
       "        vertical-align: middle;\n",
       "    }\n",
       "\n",
       "    .dataframe tbody tr th {\n",
       "        vertical-align: top;\n",
       "    }\n",
       "\n",
       "    .dataframe thead th {\n",
       "        text-align: right;\n",
       "    }\n",
       "</style>\n",
       "<table border=\"1\" class=\"dataframe\">\n",
       "  <thead>\n",
       "    <tr style=\"text-align: right;\">\n",
       "      <th></th>\n",
       "      <th>sqtft</th>\n",
       "      <th>taxvalue</th>\n",
       "      <th>yhat</th>\n",
       "      <th>residual</th>\n",
       "      <th>baseline</th>\n",
       "    </tr>\n",
       "  </thead>\n",
       "  <tbody>\n",
       "    <tr>\n",
       "      <th>9653</th>\n",
       "      <td>0.730563</td>\n",
       "      <td>615795.0</td>\n",
       "      <td>472491.899764</td>\n",
       "      <td>143303.100236</td>\n",
       "      <td>320354.428825</td>\n",
       "    </tr>\n",
       "    <tr>\n",
       "      <th>27478</th>\n",
       "      <td>0.159853</td>\n",
       "      <td>228431.0</td>\n",
       "      <td>214582.045701</td>\n",
       "      <td>13848.954299</td>\n",
       "      <td>320354.428825</td>\n",
       "    </tr>\n",
       "    <tr>\n",
       "      <th>23921</th>\n",
       "      <td>0.359584</td>\n",
       "      <td>71351.0</td>\n",
       "      <td>304842.922402</td>\n",
       "      <td>-233491.922402</td>\n",
       "      <td>320354.428825</td>\n",
       "    </tr>\n",
       "    <tr>\n",
       "      <th>26263</th>\n",
       "      <td>0.221180</td>\n",
       "      <td>240942.0</td>\n",
       "      <td>242296.375292</td>\n",
       "      <td>-1354.375292</td>\n",
       "      <td>320354.428825</td>\n",
       "    </tr>\n",
       "    <tr>\n",
       "      <th>36764</th>\n",
       "      <td>0.235925</td>\n",
       "      <td>127118.0</td>\n",
       "      <td>248959.929948</td>\n",
       "      <td>-121841.929948</td>\n",
       "      <td>320354.428825</td>\n",
       "    </tr>\n",
       "    <tr>\n",
       "      <th>...</th>\n",
       "      <td>...</td>\n",
       "      <td>...</td>\n",
       "      <td>...</td>\n",
       "      <td>...</td>\n",
       "      <td>...</td>\n",
       "    </tr>\n",
       "    <tr>\n",
       "      <th>5108</th>\n",
       "      <td>0.365952</td>\n",
       "      <td>144516.0</td>\n",
       "      <td>307720.366458</td>\n",
       "      <td>-163204.366458</td>\n",
       "      <td>320354.428825</td>\n",
       "    </tr>\n",
       "    <tr>\n",
       "      <th>37436</th>\n",
       "      <td>0.202748</td>\n",
       "      <td>156323.0</td>\n",
       "      <td>233966.931972</td>\n",
       "      <td>-77643.931972</td>\n",
       "      <td>320354.428825</td>\n",
       "    </tr>\n",
       "    <tr>\n",
       "      <th>24363</th>\n",
       "      <td>0.654155</td>\n",
       "      <td>345196.0</td>\n",
       "      <td>437962.571093</td>\n",
       "      <td>-92766.571093</td>\n",
       "      <td>320354.428825</td>\n",
       "    </tr>\n",
       "    <tr>\n",
       "      <th>24885</th>\n",
       "      <td>0.258713</td>\n",
       "      <td>53253.0</td>\n",
       "      <td>259258.150779</td>\n",
       "      <td>-206005.150779</td>\n",
       "      <td>320354.428825</td>\n",
       "    </tr>\n",
       "    <tr>\n",
       "      <th>47564</th>\n",
       "      <td>0.113271</td>\n",
       "      <td>243431.0</td>\n",
       "      <td>193531.270765</td>\n",
       "      <td>49899.729235</td>\n",
       "      <td>320354.428825</td>\n",
       "    </tr>\n",
       "  </tbody>\n",
       "</table>\n",
       "<p>24257 rows × 5 columns</p>\n",
       "</div>"
      ],
      "text/plain": [
       "          sqtft  taxvalue           yhat       residual       baseline\n",
       "9653   0.730563  615795.0  472491.899764  143303.100236  320354.428825\n",
       "27478  0.159853  228431.0  214582.045701   13848.954299  320354.428825\n",
       "23921  0.359584   71351.0  304842.922402 -233491.922402  320354.428825\n",
       "26263  0.221180  240942.0  242296.375292   -1354.375292  320354.428825\n",
       "36764  0.235925  127118.0  248959.929948 -121841.929948  320354.428825\n",
       "...         ...       ...            ...            ...            ...\n",
       "5108   0.365952  144516.0  307720.366458 -163204.366458  320354.428825\n",
       "37436  0.202748  156323.0  233966.931972  -77643.931972  320354.428825\n",
       "24363  0.654155  345196.0  437962.571093  -92766.571093  320354.428825\n",
       "24885  0.258713   53253.0  259258.150779 -206005.150779  320354.428825\n",
       "47564  0.113271  243431.0  193531.270765   49899.729235  320354.428825\n",
       "\n",
       "[24257 rows x 5 columns]"
      ]
     },
     "execution_count": 22,
     "metadata": {},
     "output_type": "execute_result"
    }
   ],
   "source": [
    "zillow_train"
   ]
  },
  {
   "cell_type": "code",
   "execution_count": 23,
   "id": "4fd25470",
   "metadata": {},
   "outputs": [
    {
     "data": {
      "text/plain": [
       "38252864717.14002"
      ]
     },
     "execution_count": 23,
     "metadata": {},
     "output_type": "execute_result"
    }
   ],
   "source": [
    "MSE_baseline = mean_squared_error(zillow_train.taxvalue, zillow_train.baseline)\n",
    "MSE_baseline"
   ]
  },
  {
   "cell_type": "code",
   "execution_count": 24,
   "id": "1aa62f0e",
   "metadata": {},
   "outputs": [
    {
     "data": {
      "text/plain": [
       "927899739443665.5"
      ]
     },
     "execution_count": 24,
     "metadata": {},
     "output_type": "execute_result"
    }
   ],
   "source": [
    "SSE_baseline = MSE_baseline * len(zillow_train)\n",
    "SSE_baseline"
   ]
  },
  {
   "cell_type": "code",
   "execution_count": 25,
   "id": "0bbf5bb4",
   "metadata": {},
   "outputs": [
    {
     "data": {
      "text/plain": [
       "195583.39581145436"
      ]
     },
     "execution_count": 25,
     "metadata": {},
     "output_type": "execute_result"
    }
   ],
   "source": [
    "RMSE_baseline = MSE_baseline**.5\n",
    "RMSE_baseline"
   ]
  },
  {
   "cell_type": "code",
   "execution_count": 26,
   "id": "62028b76",
   "metadata": {},
   "outputs": [
    {
     "name": "stdout",
     "output_type": "stream",
     "text": [
      "My OSL model performs better than baseline\n"
     ]
    }
   ],
   "source": [
    "if SSE < SSE_baseline:\n",
    "    print('My OSL model performs better than baseline')\n",
    "else:\n",
    "    print('My OSL model performs worse than baseline. :( )')"
   ]
  },
  {
   "cell_type": "code",
   "execution_count": 27,
   "id": "89e437c4",
   "metadata": {},
   "outputs": [
    {
     "data": {
      "text/plain": [
       "0.17603761387916328"
      ]
     },
     "execution_count": 27,
     "metadata": {},
     "output_type": "execute_result"
    }
   ],
   "source": [
    "r2_score(zillow_train.taxvalue,zillow_train.yhat)"
   ]
  },
  {
   "cell_type": "code",
   "execution_count": 28,
   "id": "373770b7",
   "metadata": {},
   "outputs": [
    {
     "data": {
      "text/plain": [
       "18047.704503221205"
      ]
     },
     "execution_count": 28,
     "metadata": {},
     "output_type": "execute_result"
    }
   ],
   "source": [
    "RMSE_baseline - RMSE"
   ]
  },
  {
   "cell_type": "code",
   "execution_count": 29,
   "id": "dc8da539",
   "metadata": {},
   "outputs": [],
   "source": [
    "def evaluate(y, yhat):\n",
    "    residuals = y - yhat\n",
    "    plt.scatter(x=y, y=residuals)\n",
    "    plt.xlabel('Home Value')\n",
    "    plt.ylabel('Residuals')\n",
    "    plt.title('Residual vs Home Value Plot')\n",
    "    plt.show()\n",
    "    MSE = mean_squared_error(y, yhat)\n",
    "    SSE = MSE * len(y)\n",
    "    RMSE = MSE**.5\n",
    "    ESS = ((yhat - y.mean())**2).sum()\n",
    "    TSS = ESS + SSE\n",
    "    print('SSE is ',SSE,'\\n','ESS is ', ESS,'\\n','TSS is ', TSS,'\\n','MSE is', MSE,'\\n','RMSE is ', RMSE)\n",
    "    '\\n'\n",
    "    print('---------------------')\n",
    "    print ('baseline mean error:')\n",
    "    baseline = np.repeat(y.mean(), len(y))\n",
    "    b_MSE = mean_squared_error(y, baseline)\n",
    "    b_SSE = b_MSE * len(y)\n",
    "    b_RMSE = b_MSE**.5\n",
    "    print('Baseline SSE is ',b_SSE,'\\n','Baseline MSE is', b_MSE,'\\n','Baseline RMSE is ', b_RMSE)\n",
    "    '\\n'\n",
    "    print('---------------------')\n",
    "    if SSE < b_SSE:\n",
    "        print('My regression model performs better than baseline')\n",
    "    else:\n",
    "        print('My regression model performs worse than baseline')"
   ]
  },
  {
   "cell_type": "code",
   "execution_count": 30,
   "id": "dc35b445",
   "metadata": {},
   "outputs": [
    {
     "data": {
      "image/png": "[encoded data removed]",
      "text/plain": [
       "<Figure size 432x288 with 1 Axes>"
      ]
     },
     "metadata": {
      "needs_background": "light"
     },
     "output_type": "display_data"
    },
    {
     "name": "stdout",
     "output_type": "stream",
     "text": [
      "SSE is  764554483392905.2 \n",
      " ESS is  163345256050760.9 \n",
      " TSS is  927899739443666.1 \n",
      " MSE is 31518921688.292255 \n",
      " RMSE is  177535.69130823316\n",
      "---------------------\n",
      "baseline mean error:\n",
      "Baseline SSE is  927899739443665.5 \n",
      " Baseline MSE is 38252864717.14002 \n",
      " Baseline RMSE is  195583.39581145436\n",
      "---------------------\n",
      "My regression model performs better than baseline\n"
     ]
    }
   ],
   "source": [
    "evaluate(zillow_train.taxvalue,zillow_train.yhat)"
   ]
  },
  {
   "cell_type": "code",
   "execution_count": null,
   "id": "aa2a1e8f",
   "metadata": {},
   "outputs": [],
   "source": []
  }
 ],
 "metadata": {
  "kernelspec": {
   "display_name": "Python 3 (ipykernel)",
   "language": "python",
   "name": "python3"
  },
  "language_info": {
   "codemirror_mode": {
    "name": "ipython",
    "version": 3
   },
   "file_extension": ".py",
   "mimetype": "text/x-python",
   "name": "python",
   "nbconvert_exporter": "python",
   "pygments_lexer": "ipython3",
   "version": "3.9.12"
  }
 },
 "nbformat": 4,
 "nbformat_minor": 5
}
